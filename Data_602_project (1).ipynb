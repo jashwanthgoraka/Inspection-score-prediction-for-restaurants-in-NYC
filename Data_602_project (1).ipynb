{
  "nbformat": 4,
  "nbformat_minor": 0,
  "metadata": {
    "colab": {
      "provenance": []
    },
    "kernelspec": {
      "name": "python3",
      "display_name": "Python 3"
    },
    "language_info": {
      "name": "python"
    }
  },
  "cells": [
    {
      "cell_type": "code",
      "execution_count": null,
      "metadata": {
        "id": "oIPJRcWU-tKb"
      },
      "outputs": [],
      "source": [
        "import numpy as np\n",
        "import pandas as pd\n",
        "\n",
        "import datetime, time\n",
        "from sklearn import preprocessing\n",
        "\n",
        "# Importing libraries to create visualizations:\n",
        "import matplotlib.pyplot as plt\n",
        "%matplotlib inline\n",
        "import seaborn as sns\n",
        "import folium\n",
        "import matplotlib.patches as mpatches\n",
        "import matplotlib.pyplot as plt\n",
        "# import itertools\n",
        "import warnings\n",
        "warnings.filterwarnings('ignore')"
      ]
    },
    {
      "cell_type": "code",
      "source": [
        "from google.colab import drive\n",
        "drive.mount(\"/content/drive\")"
      ],
      "metadata": {
        "colab": {
          "base_uri": "https://localhost:8080/"
        },
        "id": "aFqBzyOdUMxI",
        "outputId": "2f256abe-dae1-4bfa-ab32-dd639e3ec414"
      },
      "execution_count": null,
      "outputs": [
        {
          "output_type": "stream",
          "name": "stdout",
          "text": [
            "Mounted at /content/drive\n"
          ]
        }
      ]
    },
    {
      "cell_type": "code",
      "source": [
        "data = pd.read_csv(\"/content/drive/MyDrive/data602/DOHMH_New_York_City_Restaurant_Inspection_Results.csv\")"
      ],
      "metadata": {
        "id": "zCj2OfJqAWt0"
      },
      "execution_count": null,
      "outputs": []
    },
    {
      "cell_type": "markdown",
      "source": [
        "###1.Inspection Data"
      ],
      "metadata": {
        "id": "Radz0ttJECzy"
      }
    },
    {
      "cell_type": "code",
      "source": [
        "data.info()"
      ],
      "metadata": {
        "colab": {
          "base_uri": "https://localhost:8080/"
        },
        "id": "wPPZrRA1Ab-w",
        "outputId": "c20621fd-7a1a-420e-c831-6827ebbffc1e"
      },
      "execution_count": null,
      "outputs": [
        {
          "output_type": "stream",
          "name": "stdout",
          "text": [
            "<class 'pandas.core.frame.DataFrame'>\n",
            "RangeIndex: 200060 entries, 0 to 200059\n",
            "Data columns (total 27 columns):\n",
            " #   Column                 Non-Null Count   Dtype  \n",
            "---  ------                 --------------   -----  \n",
            " 0   CAMIS                  200060 non-null  int64  \n",
            " 1   DBA                    198299 non-null  object \n",
            " 2   BORO                   200060 non-null  object \n",
            " 3   BUILDING               199673 non-null  object \n",
            " 4   STREET                 200034 non-null  object \n",
            " 5   ZIPCODE                197314 non-null  float64\n",
            " 6   PHONE                  200049 non-null  object \n",
            " 7   CUISINE DESCRIPTION    195735 non-null  object \n",
            " 8   INSPECTION DATE        200060 non-null  object \n",
            " 9   ACTION                 195735 non-null  object \n",
            " 10  VIOLATION CODE         194620 non-null  object \n",
            " 11  VIOLATION DESCRIPTION  194620 non-null  object \n",
            " 12  CRITICAL FLAG          200060 non-null  object \n",
            " 13  SCORE                  189134 non-null  float64\n",
            " 14  GRADE                  98639 non-null   object \n",
            " 15  GRADE DATE             91362 non-null   object \n",
            " 16  RECORD DATE            200060 non-null  object \n",
            " 17  INSPECTION TYPE        195735 non-null  object \n",
            " 18  Latitude               199757 non-null  float64\n",
            " 19  Longitude              199757 non-null  float64\n",
            " 20  Community Board        196713 non-null  float64\n",
            " 21  Council District       196713 non-null  float64\n",
            " 22  Census Tract           196713 non-null  float64\n",
            " 23  BIN                    195716 non-null  float64\n",
            " 24  BBL                    199433 non-null  float64\n",
            " 25  NTA                    196713 non-null  object \n",
            " 26  Location Point1        0 non-null       float64\n",
            "dtypes: float64(10), int64(1), object(16)\n",
            "memory usage: 41.2+ MB\n"
          ]
        }
      ]
    },
    {
      "cell_type": "code",
      "source": [
        "data.shape"
      ],
      "metadata": {
        "colab": {
          "base_uri": "https://localhost:8080/"
        },
        "id": "j52SxtkUAeNx",
        "outputId": "91918193-5b14-4075-8280-80f409f0e35b"
      },
      "execution_count": null,
      "outputs": [
        {
          "output_type": "execute_result",
          "data": {
            "text/plain": [
              "(200060, 27)"
            ]
          },
          "metadata": {},
          "execution_count": 5
        }
      ]
    },
    {
      "cell_type": "code",
      "source": [
        "data.columns"
      ],
      "metadata": {
        "id": "h1nRy8AUAhkG",
        "colab": {
          "base_uri": "https://localhost:8080/"
        },
        "outputId": "97b82968-e6e6-4bf0-acca-0eea875e2b75"
      },
      "execution_count": null,
      "outputs": [
        {
          "output_type": "execute_result",
          "data": {
            "text/plain": [
              "Index(['CAMIS', 'DBA', 'BORO', 'BUILDING', 'STREET', 'ZIPCODE', 'PHONE',\n",
              "       'CUISINE DESCRIPTION', 'INSPECTION DATE', 'ACTION', 'VIOLATION CODE',\n",
              "       'VIOLATION DESCRIPTION', 'CRITICAL FLAG', 'SCORE', 'GRADE',\n",
              "       'GRADE DATE', 'RECORD DATE', 'INSPECTION TYPE', 'Latitude', 'Longitude',\n",
              "       'Community Board', 'Council District', 'Census Tract', 'BIN', 'BBL',\n",
              "       'NTA', 'Location Point1'],\n",
              "      dtype='object')"
            ]
          },
          "metadata": {},
          "execution_count": 6
        }
      ]
    },
    {
      "cell_type": "markdown",
      "source": [
        "##2.Remove Duplicative Data"
      ],
      "metadata": {
        "id": "N7SSREuKEN2i"
      }
    },
    {
      "cell_type": "code",
      "source": [
        "# Change the inspection date column to datetime format:\n",
        "data['INSPECTION DATE'] = pd.to_datetime(data['INSPECTION DATE'])"
      ],
      "metadata": {
        "id": "J2C-sFt4BcdD"
      },
      "execution_count": null,
      "outputs": []
    },
    {
      "cell_type": "code",
      "source": [
        "# Add a column that counts how many data entries have the same id (CAMIS) (and therefore represent the same restaurant):\n",
        "data['no_of_inspections'] = data.groupby('CAMIS')['CAMIS'].transform('count')"
      ],
      "metadata": {
        "id": "X_I_HnXKC0ua"
      },
      "execution_count": null,
      "outputs": []
    },
    {
      "cell_type": "code",
      "source": [
        "# Sort values by name (DBA), id (CAMIS), and inspection date:\n",
        "data_sorted = data.sort_values(by=['DBA', 'CAMIS','INSPECTION DATE'])"
      ],
      "metadata": {
        "id": "qF7EjUpYDDtR"
      },
      "execution_count": null,
      "outputs": []
    },
    {
      "cell_type": "code",
      "source": [
        "# Drop duplicate values:\n",
        "data_filtered = data_sorted.drop_duplicates(subset=['DBA', 'CAMIS'], keep='last', inplace=False).copy()"
      ],
      "metadata": {
        "id": "vhmRVbFyDFVy"
      },
      "execution_count": null,
      "outputs": []
    },
    {
      "cell_type": "code",
      "source": [
        "# Double check no duplicates remain:\n",
        "data_filtered['count_check'] = data_filtered.groupby('CAMIS')['CAMIS'].transform('count')\n",
        "print('# of Restaurants in NYC: ', len(data_filtered))\n",
        "print('# of duplicates: ', len(data_filtered[data_filtered['count_check'] > 1]))\n",
        "data_filtered.reset_index(inplace=True, drop = True)\n",
        "data_filtered.head()"
      ],
      "metadata": {
        "colab": {
          "base_uri": "https://localhost:8080/",
          "height": 594
        },
        "id": "qUTCSfOsDfM6",
        "outputId": "9114e0a8-5d1b-44fe-fad8-0e0d6aaa6994"
      },
      "execution_count": null,
      "outputs": [
        {
          "output_type": "stream",
          "name": "stdout",
          "text": [
            "# of Restaurants in NYC:  28347\n",
            "# of duplicates:  0\n"
          ]
        },
        {
          "output_type": "execute_result",
          "data": {
            "text/plain": [
              "      CAMIS                           DBA       BORO BUILDING  \\\n",
              "0  50126747     \"U\" LIKE CHINESE TAKE OUT  Manhattan     4926   \n",
              "1  50075009  #1 GARDEN CHINESE RESTAURANT   Brooklyn      221   \n",
              "2  41336841    #1 SABOR LATINO RESTAURANT      Bronx     4120   \n",
              "3  50086385                      $1 PIZZA  Manhattan      832   \n",
              "4  50117047                      $1 PIZZA  Manhattan     333B   \n",
              "\n",
              "                   STREET  ZIPCODE       PHONE CUISINE DESCRIPTION  \\\n",
              "0                BROADWAY  10034.0  2129426668             Chinese   \n",
              "1      PROSPECT PARK WEST  11215.0  9172508950             Chinese   \n",
              "2       WHITE PLAINS ROAD  10466.0  7186532222      Latin American   \n",
              "3                6 AVENUE  10001.0  9175878888               Pizza   \n",
              "4  AVENUE OF THE AMERICAS  10014.0  9173883956               Pizza   \n",
              "\n",
              "  INSPECTION DATE                                           ACTION  ...  \\\n",
              "0      2023-02-03  Violations were cited in the following area(s).  ...   \n",
              "1      2023-02-13                Establishment re-opened by DOHMH.  ...   \n",
              "2      2022-11-23  Violations were cited in the following area(s).  ...   \n",
              "3      2023-05-02  Violations were cited in the following area(s).  ...   \n",
              "4      2022-06-06  Violations were cited in the following area(s).  ...   \n",
              "\n",
              "   Longitude Community Board Council District  Census Tract        BIN  \\\n",
              "0 -73.921726           112.0             10.0       29300.0  1082052.0   \n",
              "1 -73.980555           307.0             39.0       16900.0  3026939.0   \n",
              "2 -73.858591           212.0             12.0       42200.0  2063603.0   \n",
              "3 -73.990158           105.0              3.0        7600.0  1015746.0   \n",
              "4 -74.001176           102.0              3.0        6700.0  1010086.0   \n",
              "\n",
              "            BBL   NTA Location Point1  no_of_inspections  count_check  \n",
              "0  1.022350e+09  MN01             NaN                  5            1  \n",
              "1  3.011100e+09  BK40             NaN                 14            1  \n",
              "2  2.048430e+09  BX44             NaN                 11            1  \n",
              "3  1.008300e+09  MN17             NaN                 13            1  \n",
              "4  1.005898e+09  MN23             NaN                  6            1  \n",
              "\n",
              "[5 rows x 29 columns]"
            ],
            "text/html": [
              "\n",
              "  <div id=\"df-f47ea1a4-2a38-4960-82c5-662df59375ca\">\n",
              "    <div class=\"colab-df-container\">\n",
              "      <div>\n",
              "<style scoped>\n",
              "    .dataframe tbody tr th:only-of-type {\n",
              "        vertical-align: middle;\n",
              "    }\n",
              "\n",
              "    .dataframe tbody tr th {\n",
              "        vertical-align: top;\n",
              "    }\n",
              "\n",
              "    .dataframe thead th {\n",
              "        text-align: right;\n",
              "    }\n",
              "</style>\n",
              "<table border=\"1\" class=\"dataframe\">\n",
              "  <thead>\n",
              "    <tr style=\"text-align: right;\">\n",
              "      <th></th>\n",
              "      <th>CAMIS</th>\n",
              "      <th>DBA</th>\n",
              "      <th>BORO</th>\n",
              "      <th>BUILDING</th>\n",
              "      <th>STREET</th>\n",
              "      <th>ZIPCODE</th>\n",
              "      <th>PHONE</th>\n",
              "      <th>CUISINE DESCRIPTION</th>\n",
              "      <th>INSPECTION DATE</th>\n",
              "      <th>ACTION</th>\n",
              "      <th>...</th>\n",
              "      <th>Longitude</th>\n",
              "      <th>Community Board</th>\n",
              "      <th>Council District</th>\n",
              "      <th>Census Tract</th>\n",
              "      <th>BIN</th>\n",
              "      <th>BBL</th>\n",
              "      <th>NTA</th>\n",
              "      <th>Location Point1</th>\n",
              "      <th>no_of_inspections</th>\n",
              "      <th>count_check</th>\n",
              "    </tr>\n",
              "  </thead>\n",
              "  <tbody>\n",
              "    <tr>\n",
              "      <th>0</th>\n",
              "      <td>50126747</td>\n",
              "      <td>\"U\" LIKE CHINESE TAKE OUT</td>\n",
              "      <td>Manhattan</td>\n",
              "      <td>4926</td>\n",
              "      <td>BROADWAY</td>\n",
              "      <td>10034.0</td>\n",
              "      <td>2129426668</td>\n",
              "      <td>Chinese</td>\n",
              "      <td>2023-02-03</td>\n",
              "      <td>Violations were cited in the following area(s).</td>\n",
              "      <td>...</td>\n",
              "      <td>-73.921726</td>\n",
              "      <td>112.0</td>\n",
              "      <td>10.0</td>\n",
              "      <td>29300.0</td>\n",
              "      <td>1082052.0</td>\n",
              "      <td>1.022350e+09</td>\n",
              "      <td>MN01</td>\n",
              "      <td>NaN</td>\n",
              "      <td>5</td>\n",
              "      <td>1</td>\n",
              "    </tr>\n",
              "    <tr>\n",
              "      <th>1</th>\n",
              "      <td>50075009</td>\n",
              "      <td>#1 GARDEN CHINESE RESTAURANT</td>\n",
              "      <td>Brooklyn</td>\n",
              "      <td>221</td>\n",
              "      <td>PROSPECT PARK WEST</td>\n",
              "      <td>11215.0</td>\n",
              "      <td>9172508950</td>\n",
              "      <td>Chinese</td>\n",
              "      <td>2023-02-13</td>\n",
              "      <td>Establishment re-opened by DOHMH.</td>\n",
              "      <td>...</td>\n",
              "      <td>-73.980555</td>\n",
              "      <td>307.0</td>\n",
              "      <td>39.0</td>\n",
              "      <td>16900.0</td>\n",
              "      <td>3026939.0</td>\n",
              "      <td>3.011100e+09</td>\n",
              "      <td>BK40</td>\n",
              "      <td>NaN</td>\n",
              "      <td>14</td>\n",
              "      <td>1</td>\n",
              "    </tr>\n",
              "    <tr>\n",
              "      <th>2</th>\n",
              "      <td>41336841</td>\n",
              "      <td>#1 SABOR LATINO RESTAURANT</td>\n",
              "      <td>Bronx</td>\n",
              "      <td>4120</td>\n",
              "      <td>WHITE PLAINS ROAD</td>\n",
              "      <td>10466.0</td>\n",
              "      <td>7186532222</td>\n",
              "      <td>Latin American</td>\n",
              "      <td>2022-11-23</td>\n",
              "      <td>Violations were cited in the following area(s).</td>\n",
              "      <td>...</td>\n",
              "      <td>-73.858591</td>\n",
              "      <td>212.0</td>\n",
              "      <td>12.0</td>\n",
              "      <td>42200.0</td>\n",
              "      <td>2063603.0</td>\n",
              "      <td>2.048430e+09</td>\n",
              "      <td>BX44</td>\n",
              "      <td>NaN</td>\n",
              "      <td>11</td>\n",
              "      <td>1</td>\n",
              "    </tr>\n",
              "    <tr>\n",
              "      <th>3</th>\n",
              "      <td>50086385</td>\n",
              "      <td>$1 PIZZA</td>\n",
              "      <td>Manhattan</td>\n",
              "      <td>832</td>\n",
              "      <td>6 AVENUE</td>\n",
              "      <td>10001.0</td>\n",
              "      <td>9175878888</td>\n",
              "      <td>Pizza</td>\n",
              "      <td>2023-05-02</td>\n",
              "      <td>Violations were cited in the following area(s).</td>\n",
              "      <td>...</td>\n",
              "      <td>-73.990158</td>\n",
              "      <td>105.0</td>\n",
              "      <td>3.0</td>\n",
              "      <td>7600.0</td>\n",
              "      <td>1015746.0</td>\n",
              "      <td>1.008300e+09</td>\n",
              "      <td>MN17</td>\n",
              "      <td>NaN</td>\n",
              "      <td>13</td>\n",
              "      <td>1</td>\n",
              "    </tr>\n",
              "    <tr>\n",
              "      <th>4</th>\n",
              "      <td>50117047</td>\n",
              "      <td>$1 PIZZA</td>\n",
              "      <td>Manhattan</td>\n",
              "      <td>333B</td>\n",
              "      <td>AVENUE OF THE AMERICAS</td>\n",
              "      <td>10014.0</td>\n",
              "      <td>9173883956</td>\n",
              "      <td>Pizza</td>\n",
              "      <td>2022-06-06</td>\n",
              "      <td>Violations were cited in the following area(s).</td>\n",
              "      <td>...</td>\n",
              "      <td>-74.001176</td>\n",
              "      <td>102.0</td>\n",
              "      <td>3.0</td>\n",
              "      <td>6700.0</td>\n",
              "      <td>1010086.0</td>\n",
              "      <td>1.005898e+09</td>\n",
              "      <td>MN23</td>\n",
              "      <td>NaN</td>\n",
              "      <td>6</td>\n",
              "      <td>1</td>\n",
              "    </tr>\n",
              "  </tbody>\n",
              "</table>\n",
              "<p>5 rows × 29 columns</p>\n",
              "</div>\n",
              "      <button class=\"colab-df-convert\" onclick=\"convertToInteractive('df-f47ea1a4-2a38-4960-82c5-662df59375ca')\"\n",
              "              title=\"Convert this dataframe to an interactive table.\"\n",
              "              style=\"display:none;\">\n",
              "        \n",
              "  <svg xmlns=\"http://www.w3.org/2000/svg\" height=\"24px\"viewBox=\"0 0 24 24\"\n",
              "       width=\"24px\">\n",
              "    <path d=\"M0 0h24v24H0V0z\" fill=\"none\"/>\n",
              "    <path d=\"M18.56 5.44l.94 2.06.94-2.06 2.06-.94-2.06-.94-.94-2.06-.94 2.06-2.06.94zm-11 1L8.5 8.5l.94-2.06 2.06-.94-2.06-.94L8.5 2.5l-.94 2.06-2.06.94zm10 10l.94 2.06.94-2.06 2.06-.94-2.06-.94-.94-2.06-.94 2.06-2.06.94z\"/><path d=\"M17.41 7.96l-1.37-1.37c-.4-.4-.92-.59-1.43-.59-.52 0-1.04.2-1.43.59L10.3 9.45l-7.72 7.72c-.78.78-.78 2.05 0 2.83L4 21.41c.39.39.9.59 1.41.59.51 0 1.02-.2 1.41-.59l7.78-7.78 2.81-2.81c.8-.78.8-2.07 0-2.86zM5.41 20L4 18.59l7.72-7.72 1.47 1.35L5.41 20z\"/>\n",
              "  </svg>\n",
              "      </button>\n",
              "      \n",
              "  <style>\n",
              "    .colab-df-container {\n",
              "      display:flex;\n",
              "      flex-wrap:wrap;\n",
              "      gap: 12px;\n",
              "    }\n",
              "\n",
              "    .colab-df-convert {\n",
              "      background-color: #E8F0FE;\n",
              "      border: none;\n",
              "      border-radius: 50%;\n",
              "      cursor: pointer;\n",
              "      display: none;\n",
              "      fill: #1967D2;\n",
              "      height: 32px;\n",
              "      padding: 0 0 0 0;\n",
              "      width: 32px;\n",
              "    }\n",
              "\n",
              "    .colab-df-convert:hover {\n",
              "      background-color: #E2EBFA;\n",
              "      box-shadow: 0px 1px 2px rgba(60, 64, 67, 0.3), 0px 1px 3px 1px rgba(60, 64, 67, 0.15);\n",
              "      fill: #174EA6;\n",
              "    }\n",
              "\n",
              "    [theme=dark] .colab-df-convert {\n",
              "      background-color: #3B4455;\n",
              "      fill: #D2E3FC;\n",
              "    }\n",
              "\n",
              "    [theme=dark] .colab-df-convert:hover {\n",
              "      background-color: #434B5C;\n",
              "      box-shadow: 0px 1px 3px 1px rgba(0, 0, 0, 0.15);\n",
              "      filter: drop-shadow(0px 1px 2px rgba(0, 0, 0, 0.3));\n",
              "      fill: #FFFFFF;\n",
              "    }\n",
              "  </style>\n",
              "\n",
              "      <script>\n",
              "        const buttonEl =\n",
              "          document.querySelector('#df-f47ea1a4-2a38-4960-82c5-662df59375ca button.colab-df-convert');\n",
              "        buttonEl.style.display =\n",
              "          google.colab.kernel.accessAllowed ? 'block' : 'none';\n",
              "\n",
              "        async function convertToInteractive(key) {\n",
              "          const element = document.querySelector('#df-f47ea1a4-2a38-4960-82c5-662df59375ca');\n",
              "          const dataTable =\n",
              "            await google.colab.kernel.invokeFunction('convertToInteractive',\n",
              "                                                     [key], {});\n",
              "          if (!dataTable) return;\n",
              "\n",
              "          const docLinkHtml = 'Like what you see? Visit the ' +\n",
              "            '<a target=\"_blank\" href=https://colab.research.google.com/notebooks/data_table.ipynb>data table notebook</a>'\n",
              "            + ' to learn more about interactive tables.';\n",
              "          element.innerHTML = '';\n",
              "          dataTable['output_type'] = 'display_data';\n",
              "          await google.colab.output.renderOutput(dataTable, element);\n",
              "          const docLink = document.createElement('div');\n",
              "          docLink.innerHTML = docLinkHtml;\n",
              "          element.appendChild(docLink);\n",
              "        }\n",
              "      </script>\n",
              "    </div>\n",
              "  </div>\n",
              "  "
            ]
          },
          "metadata": {},
          "execution_count": 11
        }
      ]
    },
    {
      "cell_type": "markdown",
      "source": [
        "##3.Remove Unnecessary Columns"
      ],
      "metadata": {
        "id": "wFoWFEOXESQi"
      }
    },
    {
      "cell_type": "code",
      "source": [
        "# Remove columns that we will not be working with:\n",
        "data_filtered.drop(columns = ['VIOLATION CODE', 'VIOLATION DESCRIPTION', 'RECORD DATE',\n",
        "                                   'Community Board', 'Council District', 'Census Tract','BIN','BBL','NTA',\n",
        "                                   'count_check','Location Point1'], inplace = True, axis=1)"
      ],
      "metadata": {
        "id": "Lrc_6zdgDqdK"
      },
      "execution_count": null,
      "outputs": []
    },
    {
      "cell_type": "code",
      "source": [
        "data_filtered.shape"
      ],
      "metadata": {
        "colab": {
          "base_uri": "https://localhost:8080/"
        },
        "id": "h4VNmUjrIKpZ",
        "outputId": "43f26f22-31a6-4a54-a42d-dac4bbced867"
      },
      "execution_count": null,
      "outputs": [
        {
          "output_type": "execute_result",
          "data": {
            "text/plain": [
              "(28347, 18)"
            ]
          },
          "metadata": {},
          "execution_count": 13
        }
      ]
    },
    {
      "cell_type": "markdown",
      "source": [
        "##4.Feature Engineering"
      ],
      "metadata": {
        "id": "9ruAcBrhEWbq"
      }
    },
    {
      "cell_type": "code",
      "source": [
        "# Update format of telephone numbers:\n",
        "data_filtered['PHONE']=data_filtered['PHONE'].astype(str).apply(\n",
        "    lambda x: '('+x[:3]+')'+' '+x[3:6]+'-'+x[6:10])\n",
        "\n",
        "# Rename telephone number column to match the name in the df_filtered dataset:\n",
        "data_filtered.rename(columns={'PHONE':'display_phone'}, inplace=True)"
      ],
      "metadata": {
        "id": "h4Hrzb0xD6LH"
      },
      "execution_count": null,
      "outputs": []
    },
    {
      "cell_type": "code",
      "source": [
        "data_filtered.shape"
      ],
      "metadata": {
        "colab": {
          "base_uri": "https://localhost:8080/"
        },
        "id": "UMpNBzQgIPdv",
        "outputId": "21731e6f-2fd1-43ae-e3f6-a43552ef0866"
      },
      "execution_count": null,
      "outputs": [
        {
          "output_type": "execute_result",
          "data": {
            "text/plain": [
              "(28347, 18)"
            ]
          },
          "metadata": {},
          "execution_count": 15
        }
      ]
    },
    {
      "cell_type": "markdown",
      "source": [
        "##5.Dealing With Missing Data"
      ],
      "metadata": {
        "id": "6gNT74vjEva5"
      }
    },
    {
      "cell_type": "code",
      "source": [
        "data_filtered.isnull().sum()"
      ],
      "metadata": {
        "colab": {
          "base_uri": "https://localhost:8080/"
        },
        "id": "e8xjK_l1EsxT",
        "outputId": "248b2dae-37bf-4e6a-d256-89e2ea94c94e"
      },
      "execution_count": null,
      "outputs": [
        {
          "output_type": "execute_result",
          "data": {
            "text/plain": [
              "CAMIS                     0\n",
              "DBA                    1761\n",
              "BORO                      0\n",
              "BUILDING                112\n",
              "STREET                   26\n",
              "ZIPCODE                 458\n",
              "display_phone             0\n",
              "CUISINE DESCRIPTION    4325\n",
              "INSPECTION DATE           0\n",
              "ACTION                 4325\n",
              "CRITICAL FLAG             0\n",
              "SCORE                  5004\n",
              "GRADE                  7766\n",
              "GRADE DATE             9399\n",
              "INSPECTION TYPE        4325\n",
              "Latitude                117\n",
              "Longitude               117\n",
              "no_of_inspections         0\n",
              "dtype: int64"
            ]
          },
          "metadata": {},
          "execution_count": 16
        }
      ]
    },
    {
      "cell_type": "markdown",
      "source": [
        "It looks like we have a few columns with null values. As per indications from the dataset creators, we will replace null values in the Action column with 'Not Yet Inspected', null values in the Critical Flag column with 'Not Applicable', and null values in the Inspection Type column with 'Unknown'."
      ],
      "metadata": {
        "id": "aNkQvn95FIPp"
      }
    },
    {
      "cell_type": "code",
      "source": [
        "# Replace null values in ACTION column with 'Not Yet Inspected' as per guidence from dataset creators\n",
        "data_filtered['ACTION'].fillna(value='Not Yet Inspected', inplace=True)\n",
        "\n",
        "# Replace null values in CRITICAL FLAG column with 'Not Applicable' as per guidence from dataset creators\n",
        "data_filtered['CRITICAL FLAG'].fillna(value='Not Applicable', inplace=True)\n",
        "\n",
        "# Replace null values in INSPECTION TYPE column with 'Unknown' as per guidence from dataset creators\n",
        "data_filtered['INSPECTION TYPE'].fillna(value='Unknown', inplace=True)"
      ],
      "metadata": {
        "id": "7dVOfGgHE1QQ"
      },
      "execution_count": null,
      "outputs": []
    },
    {
      "cell_type": "code",
      "source": [
        "data_filtered['GRADE'].value_counts()"
      ],
      "metadata": {
        "colab": {
          "base_uri": "https://localhost:8080/"
        },
        "id": "VAOwAqVLGcMQ",
        "outputId": "40f613cc-b618-4485-b42c-fe1c36bb2673"
      },
      "execution_count": null,
      "outputs": [
        {
          "output_type": "execute_result",
          "data": {
            "text/plain": [
              "A    16335\n",
              "N     1636\n",
              "B     1160\n",
              "Z     1145\n",
              "C      304\n",
              "P        1\n",
              "Name: GRADE, dtype: int64"
            ]
          },
          "metadata": {},
          "execution_count": 18
        }
      ]
    },
    {
      "cell_type": "markdown",
      "source": [
        "For the null values in the Grade column, we will replace these with grade data that corresponds to the information included in the Action column as the Action typically indicates the reason for not having a grade (i.e. no grade because not yet inspected)."
      ],
      "metadata": {
        "id": "8-lkpWTAFc1D"
      }
    },
    {
      "cell_type": "code",
      "source": [
        "data_filtered['GRADE'].fillna(data_filtered['ACTION'], inplace=True)"
      ],
      "metadata": {
        "id": "mCRniNviIrBJ"
      },
      "execution_count": null,
      "outputs": []
    },
    {
      "cell_type": "code",
      "source": [
        "data_filtered['GRADE'].value_counts()"
      ],
      "metadata": {
        "colab": {
          "base_uri": "https://localhost:8080/"
        },
        "id": "eeeHicJkItTK",
        "outputId": "9da0e963-a866-44ce-e0fe-f9d3a62de3b0"
      },
      "execution_count": null,
      "outputs": [
        {
          "output_type": "execute_result",
          "data": {
            "text/plain": [
              "A                                                                                                                                     16335\n",
              "Not Yet Inspected                                                                                                                      4325\n",
              "Violations were cited in the following area(s).                                                                                        3246\n",
              "N                                                                                                                                      1636\n",
              "B                                                                                                                                      1160\n",
              "Z                                                                                                                                      1145\n",
              "C                                                                                                                                       304\n",
              "No violations were recorded at the time of this inspection.                                                                             115\n",
              "Establishment Closed by DOHMH. Violations were cited in the following area(s) and those requiring immediate action were addressed.       42\n",
              "Establishment re-opened by DOHMH.                                                                                                        38\n",
              "P                                                                                                                                         1\n",
              "Name: GRADE, dtype: int64"
            ]
          },
          "metadata": {},
          "execution_count": 20
        }
      ]
    },
    {
      "cell_type": "code",
      "source": [
        "# Use details from Action column to determine grade status for rows with null values:\n",
        "\n",
        "data_filtered['GRADE'].replace({'Violations were cited in the following area(s).':'Z',\n",
        "                                     'No violations were recorded at the time of this inspection.': 'A',\n",
        "                                     'Not Yet Inspected':'N',\n",
        "                                     'Establishment Closed by DOHMH. Violations were cited in the following area(s) and those requiring immediate action were addressed.':'P',\n",
        "                                     'Establishment re-opened by DOHMH.': 'P'}, inplace = True)\n",
        "\n",
        "# Ensure GRADE column has only the grade letter scores and not any text from the Action column:\n",
        "data_filtered['GRADE'].value_counts()"
      ],
      "metadata": {
        "colab": {
          "base_uri": "https://localhost:8080/"
        },
        "id": "IZfvxlDUFaQX",
        "outputId": "20c91a29-e4d5-47f0-bf4f-9e1593a44150"
      },
      "execution_count": null,
      "outputs": [
        {
          "output_type": "execute_result",
          "data": {
            "text/plain": [
              "A    16450\n",
              "N     5961\n",
              "Z     4391\n",
              "B     1160\n",
              "C      304\n",
              "P       81\n",
              "Name: GRADE, dtype: int64"
            ]
          },
          "metadata": {},
          "execution_count": 21
        }
      ]
    },
    {
      "cell_type": "code",
      "source": [
        "# Use details from GRADE column to determine the SCORE for rows with null values:\n",
        "data_filtered['SCORE'].fillna(data_filtered['GRADE'], inplace=True)\n",
        "data_filtered['SCORE'].replace({'N':'PEND',\n",
        "                                     'Z': 'PEND',\n",
        "                                     'P':'PEND',\n",
        "                                     'A': 8,\n",
        "                                     'B': 21,\n",
        "                                     'C': 35}, inplace = True)"
      ],
      "metadata": {
        "id": "CJTqkcekFuaU"
      },
      "execution_count": null,
      "outputs": []
    },
    {
      "cell_type": "code",
      "source": [
        "data_filtered.head()"
      ],
      "metadata": {
        "colab": {
          "base_uri": "https://localhost:8080/",
          "height": 548
        },
        "id": "jsBbzeApJ75H",
        "outputId": "24e08376-575a-4f96-d8bc-d9d18145de95"
      },
      "execution_count": null,
      "outputs": [
        {
          "output_type": "execute_result",
          "data": {
            "text/plain": [
              "      CAMIS                           DBA       BORO BUILDING  \\\n",
              "0  50126747     \"U\" LIKE CHINESE TAKE OUT  Manhattan     4926   \n",
              "1  50075009  #1 GARDEN CHINESE RESTAURANT   Brooklyn      221   \n",
              "2  41336841    #1 SABOR LATINO RESTAURANT      Bronx     4120   \n",
              "3  50086385                      $1 PIZZA  Manhattan      832   \n",
              "4  50117047                      $1 PIZZA  Manhattan     333B   \n",
              "\n",
              "                   STREET  ZIPCODE   display_phone CUISINE DESCRIPTION  \\\n",
              "0                BROADWAY  10034.0  (212) 942-6668             Chinese   \n",
              "1      PROSPECT PARK WEST  11215.0  (917) 250-8950             Chinese   \n",
              "2       WHITE PLAINS ROAD  10466.0  (718) 653-2222      Latin American   \n",
              "3                6 AVENUE  10001.0  (917) 587-8888               Pizza   \n",
              "4  AVENUE OF THE AMERICAS  10014.0  (917) 388-3956               Pizza   \n",
              "\n",
              "  INSPECTION DATE                                           ACTION  \\\n",
              "0      2023-02-03  Violations were cited in the following area(s).   \n",
              "1      2023-02-13                Establishment re-opened by DOHMH.   \n",
              "2      2022-11-23  Violations were cited in the following area(s).   \n",
              "3      2023-05-02  Violations were cited in the following area(s).   \n",
              "4      2022-06-06  Violations were cited in the following area(s).   \n",
              "\n",
              "  CRITICAL FLAG SCORE GRADE  GRADE DATE  \\\n",
              "0      Critical  31.0     N         NaN   \n",
              "1  Not Critical   2.0     Z  02/13/2023   \n",
              "2  Not Critical  11.0     A  11/23/2022   \n",
              "3  Not Critical  PEND     Z         NaN   \n",
              "4      Critical   0.0     A  06/06/2022   \n",
              "\n",
              "                                     INSPECTION TYPE   Latitude  Longitude  \\\n",
              "0      Pre-permit (Operational) / Initial Inspection  40.867494 -73.921726   \n",
              "1            Cycle Inspection / Reopening Inspection  40.660156 -73.980555   \n",
              "2                   Cycle Inspection / Re-inspection  40.891176 -73.858591   \n",
              "3  Administrative Miscellaneous / Initial Inspection  40.746510 -73.990158   \n",
              "4           Pre-permit (Operational) / Re-inspection  40.731409 -74.001176   \n",
              "\n",
              "   no_of_inspections  \n",
              "0                  5  \n",
              "1                 14  \n",
              "2                 11  \n",
              "3                 13  \n",
              "4                  6  "
            ],
            "text/html": [
              "\n",
              "  <div id=\"df-6c65f283-d24f-414e-929e-3df7c7f0c9a6\">\n",
              "    <div class=\"colab-df-container\">\n",
              "      <div>\n",
              "<style scoped>\n",
              "    .dataframe tbody tr th:only-of-type {\n",
              "        vertical-align: middle;\n",
              "    }\n",
              "\n",
              "    .dataframe tbody tr th {\n",
              "        vertical-align: top;\n",
              "    }\n",
              "\n",
              "    .dataframe thead th {\n",
              "        text-align: right;\n",
              "    }\n",
              "</style>\n",
              "<table border=\"1\" class=\"dataframe\">\n",
              "  <thead>\n",
              "    <tr style=\"text-align: right;\">\n",
              "      <th></th>\n",
              "      <th>CAMIS</th>\n",
              "      <th>DBA</th>\n",
              "      <th>BORO</th>\n",
              "      <th>BUILDING</th>\n",
              "      <th>STREET</th>\n",
              "      <th>ZIPCODE</th>\n",
              "      <th>display_phone</th>\n",
              "      <th>CUISINE DESCRIPTION</th>\n",
              "      <th>INSPECTION DATE</th>\n",
              "      <th>ACTION</th>\n",
              "      <th>CRITICAL FLAG</th>\n",
              "      <th>SCORE</th>\n",
              "      <th>GRADE</th>\n",
              "      <th>GRADE DATE</th>\n",
              "      <th>INSPECTION TYPE</th>\n",
              "      <th>Latitude</th>\n",
              "      <th>Longitude</th>\n",
              "      <th>no_of_inspections</th>\n",
              "    </tr>\n",
              "  </thead>\n",
              "  <tbody>\n",
              "    <tr>\n",
              "      <th>0</th>\n",
              "      <td>50126747</td>\n",
              "      <td>\"U\" LIKE CHINESE TAKE OUT</td>\n",
              "      <td>Manhattan</td>\n",
              "      <td>4926</td>\n",
              "      <td>BROADWAY</td>\n",
              "      <td>10034.0</td>\n",
              "      <td>(212) 942-6668</td>\n",
              "      <td>Chinese</td>\n",
              "      <td>2023-02-03</td>\n",
              "      <td>Violations were cited in the following area(s).</td>\n",
              "      <td>Critical</td>\n",
              "      <td>31.0</td>\n",
              "      <td>N</td>\n",
              "      <td>NaN</td>\n",
              "      <td>Pre-permit (Operational) / Initial Inspection</td>\n",
              "      <td>40.867494</td>\n",
              "      <td>-73.921726</td>\n",
              "      <td>5</td>\n",
              "    </tr>\n",
              "    <tr>\n",
              "      <th>1</th>\n",
              "      <td>50075009</td>\n",
              "      <td>#1 GARDEN CHINESE RESTAURANT</td>\n",
              "      <td>Brooklyn</td>\n",
              "      <td>221</td>\n",
              "      <td>PROSPECT PARK WEST</td>\n",
              "      <td>11215.0</td>\n",
              "      <td>(917) 250-8950</td>\n",
              "      <td>Chinese</td>\n",
              "      <td>2023-02-13</td>\n",
              "      <td>Establishment re-opened by DOHMH.</td>\n",
              "      <td>Not Critical</td>\n",
              "      <td>2.0</td>\n",
              "      <td>Z</td>\n",
              "      <td>02/13/2023</td>\n",
              "      <td>Cycle Inspection / Reopening Inspection</td>\n",
              "      <td>40.660156</td>\n",
              "      <td>-73.980555</td>\n",
              "      <td>14</td>\n",
              "    </tr>\n",
              "    <tr>\n",
              "      <th>2</th>\n",
              "      <td>41336841</td>\n",
              "      <td>#1 SABOR LATINO RESTAURANT</td>\n",
              "      <td>Bronx</td>\n",
              "      <td>4120</td>\n",
              "      <td>WHITE PLAINS ROAD</td>\n",
              "      <td>10466.0</td>\n",
              "      <td>(718) 653-2222</td>\n",
              "      <td>Latin American</td>\n",
              "      <td>2022-11-23</td>\n",
              "      <td>Violations were cited in the following area(s).</td>\n",
              "      <td>Not Critical</td>\n",
              "      <td>11.0</td>\n",
              "      <td>A</td>\n",
              "      <td>11/23/2022</td>\n",
              "      <td>Cycle Inspection / Re-inspection</td>\n",
              "      <td>40.891176</td>\n",
              "      <td>-73.858591</td>\n",
              "      <td>11</td>\n",
              "    </tr>\n",
              "    <tr>\n",
              "      <th>3</th>\n",
              "      <td>50086385</td>\n",
              "      <td>$1 PIZZA</td>\n",
              "      <td>Manhattan</td>\n",
              "      <td>832</td>\n",
              "      <td>6 AVENUE</td>\n",
              "      <td>10001.0</td>\n",
              "      <td>(917) 587-8888</td>\n",
              "      <td>Pizza</td>\n",
              "      <td>2023-05-02</td>\n",
              "      <td>Violations were cited in the following area(s).</td>\n",
              "      <td>Not Critical</td>\n",
              "      <td>PEND</td>\n",
              "      <td>Z</td>\n",
              "      <td>NaN</td>\n",
              "      <td>Administrative Miscellaneous / Initial Inspection</td>\n",
              "      <td>40.746510</td>\n",
              "      <td>-73.990158</td>\n",
              "      <td>13</td>\n",
              "    </tr>\n",
              "    <tr>\n",
              "      <th>4</th>\n",
              "      <td>50117047</td>\n",
              "      <td>$1 PIZZA</td>\n",
              "      <td>Manhattan</td>\n",
              "      <td>333B</td>\n",
              "      <td>AVENUE OF THE AMERICAS</td>\n",
              "      <td>10014.0</td>\n",
              "      <td>(917) 388-3956</td>\n",
              "      <td>Pizza</td>\n",
              "      <td>2022-06-06</td>\n",
              "      <td>Violations were cited in the following area(s).</td>\n",
              "      <td>Critical</td>\n",
              "      <td>0.0</td>\n",
              "      <td>A</td>\n",
              "      <td>06/06/2022</td>\n",
              "      <td>Pre-permit (Operational) / Re-inspection</td>\n",
              "      <td>40.731409</td>\n",
              "      <td>-74.001176</td>\n",
              "      <td>6</td>\n",
              "    </tr>\n",
              "  </tbody>\n",
              "</table>\n",
              "</div>\n",
              "      <button class=\"colab-df-convert\" onclick=\"convertToInteractive('df-6c65f283-d24f-414e-929e-3df7c7f0c9a6')\"\n",
              "              title=\"Convert this dataframe to an interactive table.\"\n",
              "              style=\"display:none;\">\n",
              "        \n",
              "  <svg xmlns=\"http://www.w3.org/2000/svg\" height=\"24px\"viewBox=\"0 0 24 24\"\n",
              "       width=\"24px\">\n",
              "    <path d=\"M0 0h24v24H0V0z\" fill=\"none\"/>\n",
              "    <path d=\"M18.56 5.44l.94 2.06.94-2.06 2.06-.94-2.06-.94-.94-2.06-.94 2.06-2.06.94zm-11 1L8.5 8.5l.94-2.06 2.06-.94-2.06-.94L8.5 2.5l-.94 2.06-2.06.94zm10 10l.94 2.06.94-2.06 2.06-.94-2.06-.94-.94-2.06-.94 2.06-2.06.94z\"/><path d=\"M17.41 7.96l-1.37-1.37c-.4-.4-.92-.59-1.43-.59-.52 0-1.04.2-1.43.59L10.3 9.45l-7.72 7.72c-.78.78-.78 2.05 0 2.83L4 21.41c.39.39.9.59 1.41.59.51 0 1.02-.2 1.41-.59l7.78-7.78 2.81-2.81c.8-.78.8-2.07 0-2.86zM5.41 20L4 18.59l7.72-7.72 1.47 1.35L5.41 20z\"/>\n",
              "  </svg>\n",
              "      </button>\n",
              "      \n",
              "  <style>\n",
              "    .colab-df-container {\n",
              "      display:flex;\n",
              "      flex-wrap:wrap;\n",
              "      gap: 12px;\n",
              "    }\n",
              "\n",
              "    .colab-df-convert {\n",
              "      background-color: #E8F0FE;\n",
              "      border: none;\n",
              "      border-radius: 50%;\n",
              "      cursor: pointer;\n",
              "      display: none;\n",
              "      fill: #1967D2;\n",
              "      height: 32px;\n",
              "      padding: 0 0 0 0;\n",
              "      width: 32px;\n",
              "    }\n",
              "\n",
              "    .colab-df-convert:hover {\n",
              "      background-color: #E2EBFA;\n",
              "      box-shadow: 0px 1px 2px rgba(60, 64, 67, 0.3), 0px 1px 3px 1px rgba(60, 64, 67, 0.15);\n",
              "      fill: #174EA6;\n",
              "    }\n",
              "\n",
              "    [theme=dark] .colab-df-convert {\n",
              "      background-color: #3B4455;\n",
              "      fill: #D2E3FC;\n",
              "    }\n",
              "\n",
              "    [theme=dark] .colab-df-convert:hover {\n",
              "      background-color: #434B5C;\n",
              "      box-shadow: 0px 1px 3px 1px rgba(0, 0, 0, 0.15);\n",
              "      filter: drop-shadow(0px 1px 2px rgba(0, 0, 0, 0.3));\n",
              "      fill: #FFFFFF;\n",
              "    }\n",
              "  </style>\n",
              "\n",
              "      <script>\n",
              "        const buttonEl =\n",
              "          document.querySelector('#df-6c65f283-d24f-414e-929e-3df7c7f0c9a6 button.colab-df-convert');\n",
              "        buttonEl.style.display =\n",
              "          google.colab.kernel.accessAllowed ? 'block' : 'none';\n",
              "\n",
              "        async function convertToInteractive(key) {\n",
              "          const element = document.querySelector('#df-6c65f283-d24f-414e-929e-3df7c7f0c9a6');\n",
              "          const dataTable =\n",
              "            await google.colab.kernel.invokeFunction('convertToInteractive',\n",
              "                                                     [key], {});\n",
              "          if (!dataTable) return;\n",
              "\n",
              "          const docLinkHtml = 'Like what you see? Visit the ' +\n",
              "            '<a target=\"_blank\" href=https://colab.research.google.com/notebooks/data_table.ipynb>data table notebook</a>'\n",
              "            + ' to learn more about interactive tables.';\n",
              "          element.innerHTML = '';\n",
              "          dataTable['output_type'] = 'display_data';\n",
              "          await google.colab.output.renderOutput(dataTable, element);\n",
              "          const docLink = document.createElement('div');\n",
              "          docLink.innerHTML = docLinkHtml;\n",
              "          element.appendChild(docLink);\n",
              "        }\n",
              "      </script>\n",
              "    </div>\n",
              "  </div>\n",
              "  "
            ]
          },
          "metadata": {},
          "execution_count": 23
        }
      ]
    },
    {
      "cell_type": "code",
      "source": [
        "# Replace null values in grade date column with 'TBD' as the restaurants with no grade date do not yet have a grade.\n",
        "data_filtered['GRADE DATE'].fillna(value='TBD', inplace=True)\n",
        "\n"
      ],
      "metadata": {
        "id": "9OC_0K1_G6Yg"
      },
      "execution_count": null,
      "outputs": []
    },
    {
      "cell_type": "code",
      "source": [
        "# Drop all other rows with NaN values:\n",
        "data_filtered.dropna(inplace=True)\n",
        "\n",
        "# Double check we do not have any more null values:\n",
        "data_filtered.isnull().sum()\n"
      ],
      "metadata": {
        "colab": {
          "base_uri": "https://localhost:8080/"
        },
        "id": "VZ3GC_P0KU2w",
        "outputId": "a3396b5a-7b12-4381-be33-de28f02dbbf2"
      },
      "execution_count": null,
      "outputs": [
        {
          "output_type": "execute_result",
          "data": {
            "text/plain": [
              "CAMIS                  0\n",
              "DBA                    0\n",
              "BORO                   0\n",
              "BUILDING               0\n",
              "STREET                 0\n",
              "ZIPCODE                0\n",
              "display_phone          0\n",
              "CUISINE DESCRIPTION    0\n",
              "INSPECTION DATE        0\n",
              "ACTION                 0\n",
              "CRITICAL FLAG          0\n",
              "SCORE                  0\n",
              "GRADE                  0\n",
              "GRADE DATE             0\n",
              "INSPECTION TYPE        0\n",
              "Latitude               0\n",
              "Longitude              0\n",
              "no_of_inspections      0\n",
              "dtype: int64"
            ]
          },
          "metadata": {},
          "execution_count": 25
        }
      ]
    },
    {
      "cell_type": "markdown",
      "source": [
        "##6.Dealing With Outliers"
      ],
      "metadata": {
        "id": "k-XPngicHJaB"
      }
    },
    {
      "cell_type": "code",
      "source": [
        "# Check For Outliers:\n",
        "data_filtered.describe()"
      ],
      "metadata": {
        "colab": {
          "base_uri": "https://localhost:8080/",
          "height": 300
        },
        "id": "g5AWHQmcG_QU",
        "outputId": "222949fd-6e5c-49fb-f38c-84626bbec0c8"
      },
      "execution_count": null,
      "outputs": [
        {
          "output_type": "execute_result",
          "data": {
            "text/plain": [
              "              CAMIS       ZIPCODE      Latitude     Longitude  \\\n",
              "count  2.355800e+04  23558.000000  23558.000000  23558.000000   \n",
              "mean   4.742850e+07  10688.204474     40.727510    -73.943319   \n",
              "std    4.077393e+06    593.562771      0.068819      0.076652   \n",
              "min    3.007544e+07  10000.000000     40.499563    -74.248708   \n",
              "25%    4.162924e+07  10022.000000     40.686880    -73.989165   \n",
              "50%    5.005955e+07  10471.000000     40.732966    -73.958958   \n",
              "75%    5.010253e+07  11229.000000     40.762000    -73.902649   \n",
              "max    5.013569e+07  12345.000000     40.912822    -73.700928   \n",
              "\n",
              "       no_of_inspections  \n",
              "count       23558.000000  \n",
              "mean            8.176416  \n",
              "std             5.731571  \n",
              "min             1.000000  \n",
              "25%             4.000000  \n",
              "50%             7.000000  \n",
              "75%            11.000000  \n",
              "max            65.000000  "
            ],
            "text/html": [
              "\n",
              "  <div id=\"df-65285eb2-b98e-4280-b6ab-96d5749c0614\">\n",
              "    <div class=\"colab-df-container\">\n",
              "      <div>\n",
              "<style scoped>\n",
              "    .dataframe tbody tr th:only-of-type {\n",
              "        vertical-align: middle;\n",
              "    }\n",
              "\n",
              "    .dataframe tbody tr th {\n",
              "        vertical-align: top;\n",
              "    }\n",
              "\n",
              "    .dataframe thead th {\n",
              "        text-align: right;\n",
              "    }\n",
              "</style>\n",
              "<table border=\"1\" class=\"dataframe\">\n",
              "  <thead>\n",
              "    <tr style=\"text-align: right;\">\n",
              "      <th></th>\n",
              "      <th>CAMIS</th>\n",
              "      <th>ZIPCODE</th>\n",
              "      <th>Latitude</th>\n",
              "      <th>Longitude</th>\n",
              "      <th>no_of_inspections</th>\n",
              "    </tr>\n",
              "  </thead>\n",
              "  <tbody>\n",
              "    <tr>\n",
              "      <th>count</th>\n",
              "      <td>2.355800e+04</td>\n",
              "      <td>23558.000000</td>\n",
              "      <td>23558.000000</td>\n",
              "      <td>23558.000000</td>\n",
              "      <td>23558.000000</td>\n",
              "    </tr>\n",
              "    <tr>\n",
              "      <th>mean</th>\n",
              "      <td>4.742850e+07</td>\n",
              "      <td>10688.204474</td>\n",
              "      <td>40.727510</td>\n",
              "      <td>-73.943319</td>\n",
              "      <td>8.176416</td>\n",
              "    </tr>\n",
              "    <tr>\n",
              "      <th>std</th>\n",
              "      <td>4.077393e+06</td>\n",
              "      <td>593.562771</td>\n",
              "      <td>0.068819</td>\n",
              "      <td>0.076652</td>\n",
              "      <td>5.731571</td>\n",
              "    </tr>\n",
              "    <tr>\n",
              "      <th>min</th>\n",
              "      <td>3.007544e+07</td>\n",
              "      <td>10000.000000</td>\n",
              "      <td>40.499563</td>\n",
              "      <td>-74.248708</td>\n",
              "      <td>1.000000</td>\n",
              "    </tr>\n",
              "    <tr>\n",
              "      <th>25%</th>\n",
              "      <td>4.162924e+07</td>\n",
              "      <td>10022.000000</td>\n",
              "      <td>40.686880</td>\n",
              "      <td>-73.989165</td>\n",
              "      <td>4.000000</td>\n",
              "    </tr>\n",
              "    <tr>\n",
              "      <th>50%</th>\n",
              "      <td>5.005955e+07</td>\n",
              "      <td>10471.000000</td>\n",
              "      <td>40.732966</td>\n",
              "      <td>-73.958958</td>\n",
              "      <td>7.000000</td>\n",
              "    </tr>\n",
              "    <tr>\n",
              "      <th>75%</th>\n",
              "      <td>5.010253e+07</td>\n",
              "      <td>11229.000000</td>\n",
              "      <td>40.762000</td>\n",
              "      <td>-73.902649</td>\n",
              "      <td>11.000000</td>\n",
              "    </tr>\n",
              "    <tr>\n",
              "      <th>max</th>\n",
              "      <td>5.013569e+07</td>\n",
              "      <td>12345.000000</td>\n",
              "      <td>40.912822</td>\n",
              "      <td>-73.700928</td>\n",
              "      <td>65.000000</td>\n",
              "    </tr>\n",
              "  </tbody>\n",
              "</table>\n",
              "</div>\n",
              "      <button class=\"colab-df-convert\" onclick=\"convertToInteractive('df-65285eb2-b98e-4280-b6ab-96d5749c0614')\"\n",
              "              title=\"Convert this dataframe to an interactive table.\"\n",
              "              style=\"display:none;\">\n",
              "        \n",
              "  <svg xmlns=\"http://www.w3.org/2000/svg\" height=\"24px\"viewBox=\"0 0 24 24\"\n",
              "       width=\"24px\">\n",
              "    <path d=\"M0 0h24v24H0V0z\" fill=\"none\"/>\n",
              "    <path d=\"M18.56 5.44l.94 2.06.94-2.06 2.06-.94-2.06-.94-.94-2.06-.94 2.06-2.06.94zm-11 1L8.5 8.5l.94-2.06 2.06-.94-2.06-.94L8.5 2.5l-.94 2.06-2.06.94zm10 10l.94 2.06.94-2.06 2.06-.94-2.06-.94-.94-2.06-.94 2.06-2.06.94z\"/><path d=\"M17.41 7.96l-1.37-1.37c-.4-.4-.92-.59-1.43-.59-.52 0-1.04.2-1.43.59L10.3 9.45l-7.72 7.72c-.78.78-.78 2.05 0 2.83L4 21.41c.39.39.9.59 1.41.59.51 0 1.02-.2 1.41-.59l7.78-7.78 2.81-2.81c.8-.78.8-2.07 0-2.86zM5.41 20L4 18.59l7.72-7.72 1.47 1.35L5.41 20z\"/>\n",
              "  </svg>\n",
              "      </button>\n",
              "      \n",
              "  <style>\n",
              "    .colab-df-container {\n",
              "      display:flex;\n",
              "      flex-wrap:wrap;\n",
              "      gap: 12px;\n",
              "    }\n",
              "\n",
              "    .colab-df-convert {\n",
              "      background-color: #E8F0FE;\n",
              "      border: none;\n",
              "      border-radius: 50%;\n",
              "      cursor: pointer;\n",
              "      display: none;\n",
              "      fill: #1967D2;\n",
              "      height: 32px;\n",
              "      padding: 0 0 0 0;\n",
              "      width: 32px;\n",
              "    }\n",
              "\n",
              "    .colab-df-convert:hover {\n",
              "      background-color: #E2EBFA;\n",
              "      box-shadow: 0px 1px 2px rgba(60, 64, 67, 0.3), 0px 1px 3px 1px rgba(60, 64, 67, 0.15);\n",
              "      fill: #174EA6;\n",
              "    }\n",
              "\n",
              "    [theme=dark] .colab-df-convert {\n",
              "      background-color: #3B4455;\n",
              "      fill: #D2E3FC;\n",
              "    }\n",
              "\n",
              "    [theme=dark] .colab-df-convert:hover {\n",
              "      background-color: #434B5C;\n",
              "      box-shadow: 0px 1px 3px 1px rgba(0, 0, 0, 0.15);\n",
              "      filter: drop-shadow(0px 1px 2px rgba(0, 0, 0, 0.3));\n",
              "      fill: #FFFFFF;\n",
              "    }\n",
              "  </style>\n",
              "\n",
              "      <script>\n",
              "        const buttonEl =\n",
              "          document.querySelector('#df-65285eb2-b98e-4280-b6ab-96d5749c0614 button.colab-df-convert');\n",
              "        buttonEl.style.display =\n",
              "          google.colab.kernel.accessAllowed ? 'block' : 'none';\n",
              "\n",
              "        async function convertToInteractive(key) {\n",
              "          const element = document.querySelector('#df-65285eb2-b98e-4280-b6ab-96d5749c0614');\n",
              "          const dataTable =\n",
              "            await google.colab.kernel.invokeFunction('convertToInteractive',\n",
              "                                                     [key], {});\n",
              "          if (!dataTable) return;\n",
              "\n",
              "          const docLinkHtml = 'Like what you see? Visit the ' +\n",
              "            '<a target=\"_blank\" href=https://colab.research.google.com/notebooks/data_table.ipynb>data table notebook</a>'\n",
              "            + ' to learn more about interactive tables.';\n",
              "          element.innerHTML = '';\n",
              "          dataTable['output_type'] = 'display_data';\n",
              "          await google.colab.output.renderOutput(dataTable, element);\n",
              "          const docLink = document.createElement('div');\n",
              "          docLink.innerHTML = docLinkHtml;\n",
              "          element.appendChild(docLink);\n",
              "        }\n",
              "      </script>\n",
              "    </div>\n",
              "  </div>\n",
              "  "
            ]
          },
          "metadata": {},
          "execution_count": 26
        }
      ]
    },
    {
      "cell_type": "markdown",
      "source": [
        "The no_of_inspections column seems to have some outliers. Rather than completely removing these outliers since they likely primarily represent restaurants with a 'C' grade who have been inspected many times as a result of having many violations and we don't want to remove just one specific group of restaurants, we will replace the outlier values in this column so they no longer are significant outliers. For the number of inspections column, anything with more than 70 inspections will be updated to say it has 70 inspections, which still indicates that the restaurant had a large number of inspections."
      ],
      "metadata": {
        "id": "22p9VxIEMR4m"
      }
    },
    {
      "cell_type": "code",
      "source": [
        "# Convert outliers in number of inspections column to have a value of '70'\n",
        "data_filtered['no_of_inspections'] = np.where(data_filtered['no_of_inspections'].between(\n",
        "    70,98), 70, data_filtered['no_of_inspections'])"
      ],
      "metadata": {
        "id": "-h07Ny2yL2Lh"
      },
      "execution_count": null,
      "outputs": []
    },
    {
      "cell_type": "code",
      "source": [
        "# Create a temporary dataframe that includes only the restaurants that have been given an inspection grade:\n",
        "df_inspec_filtered_temp = data_filtered.loc[data_filtered['GRADE'].isin(['A','B','C'])].copy()\n",
        "\n",
        "\n",
        "temp = df_inspec_filtered_temp['GRADE'].groupby(df_inspec_filtered_temp['BORO']).count().sort_values(ascending=False)\n",
        "# List in descending order the number of inspected restaurants in each borough:\n",
        "print('no Of Restaurants Per Borough:','\\n',\n",
        "      temp)"
      ],
      "metadata": {
        "colab": {
          "base_uri": "https://localhost:8080/"
        },
        "id": "c7CKsZQBMhXd",
        "outputId": "a82d988c-db1e-480c-93db-4f75009f48f6"
      },
      "execution_count": null,
      "outputs": [
        {
          "output_type": "stream",
          "name": "stdout",
          "text": [
            "no Of Restaurants Per Borough: \n",
            " BORO\n",
            "Manhattan        6784\n",
            "Brooklyn         4611\n",
            "Queens           3956\n",
            "Bronx            1487\n",
            "Staten Island     698\n",
            "Name: GRADE, dtype: int64\n"
          ]
        }
      ]
    },
    {
      "cell_type": "code",
      "source": [
        "sns.set(style=\"whitegrid\")\n",
        "\n",
        "# Create the bar plot\n",
        "sns.barplot(x=temp.index, y=temp.values)\n",
        "\n",
        "# Add labels and title to the graph\n",
        "plt.xlabel('Borough')\n",
        "plt.ylabel('Count')\n",
        "plt.title('Number Of Inspected Restaurants In Each Borough')\n",
        "\n",
        "# Add data labels\n",
        "for i, v in enumerate(temp.values):\n",
        "    plt.text(i, v+50, str(v), ha='center', fontweight='bold')\n",
        "\n",
        "# Show the plot\n",
        "plt.show()"
      ],
      "metadata": {
        "colab": {
          "base_uri": "https://localhost:8080/",
          "height": 480
        },
        "id": "pzJcXWNtJOS_",
        "outputId": "716c46a2-ed79-4cec-efec-974c28173741"
      },
      "execution_count": null,
      "outputs": [
        {
          "output_type": "display_data",
          "data": {
            "text/plain": [
              "<Figure size 640x480 with 1 Axes>"
            ],
            "image/png": "[encoded data removed]"
          },
          "metadata": {}
        }
      ]
    },
    {
      "cell_type": "markdown",
      "source": [
        "## 7. EDA and Visualization"
      ],
      "metadata": {
        "id": "4KCy8usebLrt"
      }
    },
    {
      "cell_type": "code",
      "source": [
        "\n",
        "# Create a figure and set its size\n",
        "plt.figure(figsize=(12, 6))\n",
        "\n",
        "# Group and count the inspections by borough and grade\n",
        "grouped = df_inspec_filtered_temp.groupby(['BORO', 'GRADE']).size().unstack()\n",
        "\n",
        "# Get the boroughs and grades from the grouped DataFrame\n",
        "boroughs = grouped.index\n",
        "grades = grouped.columns\n",
        "\n",
        "# Set the color scheme for the grades\n",
        "colors = ['green', 'yellow', 'red']\n",
        "\n",
        "# Iterate over the grades and create a bar for each borough\n",
        "for i, grade in enumerate(grades):\n",
        "    plt.bar(boroughs, grouped[grade], label=grade, color=colors[i], alpha=0.8)\n",
        "\n",
        "# Add value labels on top of each bar\n",
        "for borough in boroughs:\n",
        "    for i, grade in enumerate(grades):\n",
        "        count = grouped.loc[borough, grade]\n",
        "        plt.text(borough, count + 10, str(count), ha='center', va='bottom', fontweight='bold')\n",
        "\n",
        "# Add chart title and labels\n",
        "plt.title('Inspection Grade by Borough', fontsize=20)\n",
        "plt.xlabel('Borough', fontsize=14)\n",
        "plt.ylabel('Number of Restaurants', fontsize=14)\n",
        "\n",
        "# Rotate the x-axis labels for better readability\n",
        "plt.xticks(rotation=45)\n",
        "\n",
        "# Add a legend\n",
        "plt.legend()\n",
        "\n",
        "# Show the plot\n",
        "plt.tight_layout()\n",
        "plt.show()"
      ],
      "metadata": {
        "colab": {
          "base_uri": "https://localhost:8080/",
          "height": 601
        },
        "id": "WYkvJs88P7vQ",
        "outputId": "62944a0c-b615-4017-eb2f-d23e7ebd5df8"
      },
      "execution_count": null,
      "outputs": [
        {
          "output_type": "display_data",
          "data": {
            "text/plain": [
              "<Figure size 1200x600 with 1 Axes>"
            ],
            "image/png": "[encoded data removed]"
          },
          "metadata": {}
        }
      ]
    },
    {
      "cell_type": "code",
      "source": [
        "# Define a function to assign range labels\n",
        "def count_range(x):\n",
        "    if x == 1:\n",
        "        return '1'\n",
        "    elif 2 <= x <= 5:\n",
        "        return '2-5'\n",
        "    elif 6 <= x <= 10:\n",
        "        return '6-10'\n",
        "    elif 11 <= x <= 20:\n",
        "        return '11-20'\n",
        "    elif 21 <= x <= 30:\n",
        "        return '21-30'\n",
        "    else:\n",
        "        return '31+'\n",
        "\n",
        "# Add a new column for count ranges\n",
        "data_filtered['count_range'] = data_filtered['no_of_inspections'].apply(count_range)\n",
        "\n",
        "# Calculate the percentage of visits for each borough and count range\n",
        "percentage_data = data_filtered.groupby('BORO')['count_range'].value_counts(normalize=True).mul(100).rename('Percent of Visits').reset_index()\n",
        "\n",
        "# Create the bar plot\n",
        "plt.figure(figsize=(12, 6))\n",
        "sns.barplot(data=percentage_data, x='BORO', y='Percent of Visits', hue='count_range',\n",
        "            hue_order=['1', '2-5', '6-10', '11-20', '21-30', '31+'])\n",
        "\n",
        "# Add chart title, labels, and legend\n",
        "plt.title('% of Inspection Visits By Borough', fontsize=20)\n",
        "plt.xlabel('Borough', fontsize=14)\n",
        "plt.ylabel('Percent of Visits', fontsize=14)\n",
        "plt.legend(title='Number of Inspections')\n",
        "\n",
        "# Rotate the x-axis labels for better readability\n",
        "plt.xticks(rotation='vertical')\n",
        "\n",
        "# Show the plot\n",
        "plt.tight_layout()\n",
        "plt.show()"
      ],
      "metadata": {
        "colab": {
          "base_uri": "https://localhost:8080/",
          "height": 601
        },
        "id": "YLw-mJrEQxTO",
        "outputId": "1b796ead-5c28-4aa1-98fb-39aff3800073"
      },
      "execution_count": null,
      "outputs": [
        {
          "output_type": "display_data",
          "data": {
            "text/plain": [
              "<Figure size 1200x600 with 1 Axes>"
            ],
            "image/png": "[encoded data removed]"
          },
          "metadata": {}
        }
      ]
    },
    {
      "cell_type": "code",
      "source": [
        "# Plot a pie chart that shows the breakout of each grade:\n",
        "plt.figure(figsize=(12,6))\n",
        "data_filtered['GRADE'].value_counts().plot(kind='pie')\n",
        "plt.title('% Of Each Grade', fontsize=20);"
      ],
      "metadata": {
        "colab": {
          "base_uri": "https://localhost:8080/",
          "height": 529
        },
        "id": "BErkNHw7OTwY",
        "outputId": "124f4aa6-9113-4a09-e45e-97b7eb117c91"
      },
      "execution_count": null,
      "outputs": [
        {
          "output_type": "display_data",
          "data": {
            "text/plain": [
              "<Figure size 1200x600 with 1 Axes>"
            ],
            "image/png": "[encoded data removed]"
          },
          "metadata": {}
        }
      ]
    },
    {
      "cell_type": "code",
      "source": [
        "data_filtered.columns"
      ],
      "metadata": {
        "colab": {
          "base_uri": "https://localhost:8080/"
        },
        "id": "SpeWYK0hPbzx",
        "outputId": "f2e58a48-c5fd-45b8-e2b9-629c00fa3331"
      },
      "execution_count": null,
      "outputs": [
        {
          "output_type": "execute_result",
          "data": {
            "text/plain": [
              "Index(['CAMIS', 'DBA', 'BORO', 'BUILDING', 'STREET', 'ZIPCODE',\n",
              "       'display_phone', 'CUISINE DESCRIPTION', 'INSPECTION DATE', 'ACTION',\n",
              "       'CRITICAL FLAG', 'SCORE', 'GRADE', 'GRADE DATE', 'INSPECTION TYPE',\n",
              "       'Latitude', 'Longitude', 'no_of_inspections', 'count_range'],\n",
              "      dtype='object')"
            ]
          },
          "metadata": {},
          "execution_count": 33
        }
      ]
    },
    {
      "cell_type": "code",
      "source": [
        "data_filtered['SCORE'].value_counts()"
      ],
      "metadata": {
        "colab": {
          "base_uri": "https://localhost:8080/"
        },
        "id": "uJsU40YDQgQN",
        "outputId": "07e63218-c6b8-43a9-c3f1-3a618b0c7b83"
      },
      "execution_count": null,
      "outputs": [
        {
          "output_type": "execute_result",
          "data": {
            "text/plain": [
              "12.0     3344\n",
              "13.0     2661\n",
              "10.0     2185\n",
              "7.0      1506\n",
              "9.0      1487\n",
              "         ... \n",
              "110.0       1\n",
              "95.0        1\n",
              "98.0        1\n",
              "92.0        1\n",
              "109.0       1\n",
              "Name: SCORE, Length: 102, dtype: int64"
            ]
          },
          "metadata": {},
          "execution_count": 34
        }
      ]
    },
    {
      "cell_type": "code",
      "source": [
        "data_filtered.info()"
      ],
      "metadata": {
        "id": "EF0R5zOYwydw",
        "colab": {
          "base_uri": "https://localhost:8080/"
        },
        "outputId": "7ea30242-ce30-4d6e-fd6b-6d485af25aa3"
      },
      "execution_count": null,
      "outputs": [
        {
          "output_type": "stream",
          "name": "stdout",
          "text": [
            "<class 'pandas.core.frame.DataFrame'>\n",
            "Int64Index: 23558 entries, 0 to 26583\n",
            "Data columns (total 19 columns):\n",
            " #   Column               Non-Null Count  Dtype         \n",
            "---  ------               --------------  -----         \n",
            " 0   CAMIS                23558 non-null  int64         \n",
            " 1   DBA                  23558 non-null  object        \n",
            " 2   BORO                 23558 non-null  object        \n",
            " 3   BUILDING             23558 non-null  object        \n",
            " 4   STREET               23558 non-null  object        \n",
            " 5   ZIPCODE              23558 non-null  float64       \n",
            " 6   display_phone        23558 non-null  object        \n",
            " 7   CUISINE DESCRIPTION  23558 non-null  object        \n",
            " 8   INSPECTION DATE      23558 non-null  datetime64[ns]\n",
            " 9   ACTION               23558 non-null  object        \n",
            " 10  CRITICAL FLAG        23558 non-null  object        \n",
            " 11  SCORE                23558 non-null  object        \n",
            " 12  GRADE                23558 non-null  object        \n",
            " 13  GRADE DATE           23558 non-null  object        \n",
            " 14  INSPECTION TYPE      23558 non-null  object        \n",
            " 15  Latitude             23558 non-null  float64       \n",
            " 16  Longitude            23558 non-null  float64       \n",
            " 17  no_of_inspections    23558 non-null  int64         \n",
            " 18  count_range          23558 non-null  object        \n",
            "dtypes: datetime64[ns](1), float64(3), int64(2), object(13)\n",
            "memory usage: 3.6+ MB\n"
          ]
        }
      ]
    },
    {
      "cell_type": "code",
      "source": [
        "data_filtered.shape"
      ],
      "metadata": {
        "colab": {
          "base_uri": "https://localhost:8080/"
        },
        "id": "As51BIXLqsmI",
        "outputId": "1924c220-359e-4a23-8972-165f6203354e"
      },
      "execution_count": null,
      "outputs": [
        {
          "output_type": "execute_result",
          "data": {
            "text/plain": [
              "(23558, 19)"
            ]
          },
          "metadata": {},
          "execution_count": 36
        }
      ]
    },
    {
      "cell_type": "code",
      "source": [
        "data_filtered['DBA']"
      ],
      "metadata": {
        "colab": {
          "base_uri": "https://localhost:8080/"
        },
        "id": "NWq_FgoE0X8b",
        "outputId": "82da486b-8b3d-40a0-dbcf-01d6dbddaf7b"
      },
      "execution_count": null,
      "outputs": [
        {
          "output_type": "execute_result",
          "data": {
            "text/plain": [
              "0               \"U\" LIKE CHINESE TAKE OUT\n",
              "1            #1 GARDEN CHINESE RESTAURANT\n",
              "2              #1 SABOR LATINO RESTAURANT\n",
              "3                                $1 PIZZA\n",
              "4                                $1 PIZZA\n",
              "                       ...               \n",
              "26564                       cafe paulette\n",
              "26572    kampai hibachi & brazilian Grill\n",
              "26573                   kokomo restaurant\n",
              "26577                       matchpointnyc\n",
              "26583                     tutto il giorno\n",
              "Name: DBA, Length: 23558, dtype: object"
            ]
          },
          "metadata": {},
          "execution_count": 37
        }
      ]
    },
    {
      "cell_type": "code",
      "source": [
        "data_filtered['BORO'].value_counts()"
      ],
      "metadata": {
        "colab": {
          "base_uri": "https://localhost:8080/"
        },
        "id": "5DHgMhTzqxyR",
        "outputId": "f9d7ca69-3d03-4735-f0e2-f14edf259868"
      },
      "execution_count": null,
      "outputs": [
        {
          "output_type": "execute_result",
          "data": {
            "text/plain": [
              "Manhattan        8948\n",
              "Brooklyn         6137\n",
              "Queens           5413\n",
              "Bronx            2164\n",
              "Staten Island     896\n",
              "Name: BORO, dtype: int64"
            ]
          },
          "metadata": {},
          "execution_count": 38
        }
      ]
    },
    {
      "cell_type": "code",
      "source": [
        "data_filtered['CUISINE DESCRIPTION'].value_counts()"
      ],
      "metadata": {
        "colab": {
          "base_uri": "https://localhost:8080/"
        },
        "id": "zh9-2_uIrbkl",
        "outputId": "550ab9c6-7cda-413e-ab05-e6f68b3cba17"
      },
      "execution_count": null,
      "outputs": [
        {
          "output_type": "execute_result",
          "data": {
            "text/plain": [
              "American        4505\n",
              "Chinese         2037\n",
              "Coffee/Tea      1690\n",
              "Pizza           1460\n",
              "Italian          928\n",
              "                ... \n",
              "Southwestern       2\n",
              "Chilean            2\n",
              "Iranian            2\n",
              "Armenian           2\n",
              "Basque             1\n",
              "Name: CUISINE DESCRIPTION, Length: 87, dtype: int64"
            ]
          },
          "metadata": {},
          "execution_count": 39
        }
      ]
    },
    {
      "cell_type": "code",
      "source": [
        "data_filtered['ACTION'].value_counts()"
      ],
      "metadata": {
        "colab": {
          "base_uri": "https://localhost:8080/"
        },
        "id": "5bRnH1txrwJj",
        "outputId": "76a74129-7f24-483b-838c-8de16d9f72c7"
      },
      "execution_count": null,
      "outputs": [
        {
          "output_type": "execute_result",
          "data": {
            "text/plain": [
              "Violations were cited in the following area(s).                                                                                       22774\n",
              "Establishment re-opened by DOHMH.                                                                                                       459\n",
              "No violations were recorded at the time of this inspection.                                                                             263\n",
              "Establishment Closed by DOHMH. Violations were cited in the following area(s) and those requiring immediate action were addressed.       62\n",
              "Name: ACTION, dtype: int64"
            ]
          },
          "metadata": {},
          "execution_count": 40
        }
      ]
    },
    {
      "cell_type": "code",
      "source": [
        "data_filtered['CRITICAL FLAG'].value_counts()"
      ],
      "metadata": {
        "colab": {
          "base_uri": "https://localhost:8080/"
        },
        "id": "8nf-FDVj1wa8",
        "outputId": "6e259d3d-7fd1-4fd2-a077-9c61093a566a"
      },
      "execution_count": null,
      "outputs": [
        {
          "output_type": "execute_result",
          "data": {
            "text/plain": [
              "Critical          11945\n",
              "Not Critical      11236\n",
              "Not Applicable      377\n",
              "Name: CRITICAL FLAG, dtype: int64"
            ]
          },
          "metadata": {},
          "execution_count": 41
        }
      ]
    },
    {
      "cell_type": "code",
      "source": [
        "data_filtered['INSPECTION TYPE'].value_counts()"
      ],
      "metadata": {
        "colab": {
          "base_uri": "https://localhost:8080/"
        },
        "id": "sEbxLkQNsDwk",
        "outputId": "802abd4c-25dc-43ad-f4a8-d65e1f8c9d91"
      },
      "execution_count": null,
      "outputs": [
        {
          "output_type": "execute_result",
          "data": {
            "text/plain": [
              "Cycle Inspection / Initial Inspection                          12888\n",
              "Cycle Inspection / Re-inspection                                5885\n",
              "Pre-permit (Operational) / Initial Inspection                   2091\n",
              "Pre-permit (Operational) / Re-inspection                         941\n",
              "Administrative Miscellaneous / Initial Inspection                446\n",
              "Cycle Inspection / Reopening Inspection                          396\n",
              "Pre-permit (Non-operational) / Initial Inspection                295\n",
              "Pre-permit (Operational) / Compliance Inspection                 142\n",
              "Administrative Miscellaneous / Re-inspection                      97\n",
              "Cycle Inspection / Compliance Inspection                          87\n",
              "Pre-permit (Operational) / Reopening Inspection                   58\n",
              "Smoke-Free Air Act / Initial Inspection                           49\n",
              "Pre-permit (Non-operational) / Re-inspection                      42\n",
              "Inter-Agency Task Force / Initial Inspection                      34\n",
              "Calorie Posting / Initial Inspection                              28\n",
              "Pre-permit (Operational) / Second Compliance Inspection           23\n",
              "Trans Fat / Initial Inspection                                    22\n",
              "Smoke-Free Air Act / Re-inspection                                 7\n",
              "Administrative Miscellaneous / Compliance Inspection               6\n",
              "Administrative Miscellaneous / Reopening Inspection                6\n",
              "Cycle Inspection / Second Compliance Inspection                    4\n",
              "Administrative Miscellaneous / Second Compliance Inspection        3\n",
              "Trans Fat / Re-inspection                                          3\n",
              "Pre-permit (Non-operational) / Compliance Inspection               2\n",
              "Calorie Posting / Compliance Inspection                            1\n",
              "Calorie Posting / Re-inspection                                    1\n",
              "Pre-permit (Non-operational) / Second Compliance Inspection        1\n",
              "Name: INSPECTION TYPE, dtype: int64"
            ]
          },
          "metadata": {},
          "execution_count": 42
        }
      ]
    },
    {
      "cell_type": "code",
      "source": [
        "data_filtered['SCORE'].count()"
      ],
      "metadata": {
        "colab": {
          "base_uri": "https://localhost:8080/"
        },
        "id": "Sk-igH41s77J",
        "outputId": "0abd9944-dfc3-4fc4-b69c-3c88cbc471a3"
      },
      "execution_count": null,
      "outputs": [
        {
          "output_type": "execute_result",
          "data": {
            "text/plain": [
              "23558"
            ]
          },
          "metadata": {},
          "execution_count": 43
        }
      ]
    },
    {
      "cell_type": "code",
      "source": [
        "data_filtered[data_filtered['SCORE']=='PEND'].count()"
      ],
      "metadata": {
        "colab": {
          "base_uri": "https://localhost:8080/"
        },
        "id": "0U-N6W6DzTeg",
        "outputId": "9d9f7cf0-41cf-4e66-a44a-9bd77c96896a"
      },
      "execution_count": null,
      "outputs": [
        {
          "output_type": "execute_result",
          "data": {
            "text/plain": [
              "CAMIS                  583\n",
              "DBA                    583\n",
              "BORO                   583\n",
              "BUILDING               583\n",
              "STREET                 583\n",
              "ZIPCODE                583\n",
              "display_phone          583\n",
              "CUISINE DESCRIPTION    583\n",
              "INSPECTION DATE        583\n",
              "ACTION                 583\n",
              "CRITICAL FLAG          583\n",
              "SCORE                  583\n",
              "GRADE                  583\n",
              "GRADE DATE             583\n",
              "INSPECTION TYPE        583\n",
              "Latitude               583\n",
              "Longitude              583\n",
              "no_of_inspections      583\n",
              "count_range            583\n",
              "dtype: int64"
            ]
          },
          "metadata": {},
          "execution_count": 44
        }
      ]
    },
    {
      "cell_type": "code",
      "source": [
        "data_filtered['ZIPCODE'].value_counts"
      ],
      "metadata": {
        "colab": {
          "base_uri": "https://localhost:8080/"
        },
        "id": "EDXSLU6D0rPW",
        "outputId": "afafe907-d30f-41ca-85bc-898bfc0095b7"
      },
      "execution_count": null,
      "outputs": [
        {
          "output_type": "execute_result",
          "data": {
            "text/plain": [
              "<bound method IndexOpsMixin.value_counts of 0        10034.0\n",
              "1        11215.0\n",
              "2        10466.0\n",
              "3        10001.0\n",
              "4        10014.0\n",
              "          ...   \n",
              "26564    11217.0\n",
              "26572    11366.0\n",
              "26573    11249.0\n",
              "26577    11223.0\n",
              "26583    10013.0\n",
              "Name: ZIPCODE, Length: 23558, dtype: float64>"
            ]
          },
          "metadata": {},
          "execution_count": 45
        }
      ]
    },
    {
      "cell_type": "code",
      "source": [
        "df = data_filtered\n",
        "df = df.replace('PEND', 0)\n",
        "df['SCORE'] = df['SCORE'].astype(float)\n",
        "\n",
        "# Handle missing and non-numeric values\n",
        "df['SCORE'] = pd.to_numeric(df['SCORE'], errors='coerce')\n",
        "df['SCORE'].fillna(0, inplace=True)\n"
      ],
      "metadata": {
        "id": "Ob-RE9NnuV0N"
      },
      "execution_count": null,
      "outputs": []
    },
    {
      "cell_type": "code",
      "source": [
        "score_range = df['SCORE'].max() - df['SCORE'].min()\n",
        "\n",
        "# Print the range\n",
        "print(\"The range of the 'score' column is:\", score_range)"
      ],
      "metadata": {
        "colab": {
          "base_uri": "https://localhost:8080/"
        },
        "id": "8d5SCK6ftKpl",
        "outputId": "8b702ba8-ecf7-4948-b4af-4444af2c1195"
      },
      "execution_count": null,
      "outputs": [
        {
          "output_type": "stream",
          "name": "stdout",
          "text": [
            "The range of the 'score' column is: 140.0\n"
          ]
        }
      ]
    },
    {
      "cell_type": "code",
      "source": [
        "data_filtered['no_of_inspections']"
      ],
      "metadata": {
        "colab": {
          "base_uri": "https://localhost:8080/"
        },
        "id": "CPZBa2UG2JU9",
        "outputId": "3682244b-ecb5-4fcb-8f5b-25c95277b64d"
      },
      "execution_count": null,
      "outputs": [
        {
          "output_type": "execute_result",
          "data": {
            "text/plain": [
              "0         5\n",
              "1        14\n",
              "2        11\n",
              "3        13\n",
              "4         6\n",
              "         ..\n",
              "26564    13\n",
              "26572     8\n",
              "26573     7\n",
              "26577    13\n",
              "26583    11\n",
              "Name: no_of_inspections, Length: 23558, dtype: int64"
            ]
          },
          "metadata": {},
          "execution_count": 48
        }
      ]
    },
    {
      "cell_type": "code",
      "source": [
        "data_filtered.head(1)"
      ],
      "metadata": {
        "colab": {
          "base_uri": "https://localhost:8080/",
          "height": 249
        },
        "id": "PJdcj982SFl8",
        "outputId": "a9e7f735-2352-44ff-83a7-c6c9c0932a49"
      },
      "execution_count": null,
      "outputs": [
        {
          "output_type": "execute_result",
          "data": {
            "text/plain": [
              "      CAMIS                        DBA       BORO BUILDING    STREET  ZIPCODE  \\\n",
              "0  50126747  \"U\" LIKE CHINESE TAKE OUT  Manhattan     4926  BROADWAY  10034.0   \n",
              "\n",
              "    display_phone CUISINE DESCRIPTION INSPECTION DATE  \\\n",
              "0  (212) 942-6668             Chinese      2023-02-03   \n",
              "\n",
              "                                            ACTION CRITICAL FLAG SCORE GRADE  \\\n",
              "0  Violations were cited in the following area(s).      Critical  31.0     N   \n",
              "\n",
              "  GRADE DATE                                INSPECTION TYPE   Latitude  \\\n",
              "0        TBD  Pre-permit (Operational) / Initial Inspection  40.867494   \n",
              "\n",
              "   Longitude  no_of_inspections count_range  \n",
              "0 -73.921726                  5         2-5  "
            ],
            "text/html": [
              "\n",
              "  <div id=\"df-f4203ffa-7fb1-4c35-8efe-e7d9d7e18f1d\">\n",
              "    <div class=\"colab-df-container\">\n",
              "      <div>\n",
              "<style scoped>\n",
              "    .dataframe tbody tr th:only-of-type {\n",
              "        vertical-align: middle;\n",
              "    }\n",
              "\n",
              "    .dataframe tbody tr th {\n",
              "        vertical-align: top;\n",
              "    }\n",
              "\n",
              "    .dataframe thead th {\n",
              "        text-align: right;\n",
              "    }\n",
              "</style>\n",
              "<table border=\"1\" class=\"dataframe\">\n",
              "  <thead>\n",
              "    <tr style=\"text-align: right;\">\n",
              "      <th></th>\n",
              "      <th>CAMIS</th>\n",
              "      <th>DBA</th>\n",
              "      <th>BORO</th>\n",
              "      <th>BUILDING</th>\n",
              "      <th>STREET</th>\n",
              "      <th>ZIPCODE</th>\n",
              "      <th>display_phone</th>\n",
              "      <th>CUISINE DESCRIPTION</th>\n",
              "      <th>INSPECTION DATE</th>\n",
              "      <th>ACTION</th>\n",
              "      <th>CRITICAL FLAG</th>\n",
              "      <th>SCORE</th>\n",
              "      <th>GRADE</th>\n",
              "      <th>GRADE DATE</th>\n",
              "      <th>INSPECTION TYPE</th>\n",
              "      <th>Latitude</th>\n",
              "      <th>Longitude</th>\n",
              "      <th>no_of_inspections</th>\n",
              "      <th>count_range</th>\n",
              "    </tr>\n",
              "  </thead>\n",
              "  <tbody>\n",
              "    <tr>\n",
              "      <th>0</th>\n",
              "      <td>50126747</td>\n",
              "      <td>\"U\" LIKE CHINESE TAKE OUT</td>\n",
              "      <td>Manhattan</td>\n",
              "      <td>4926</td>\n",
              "      <td>BROADWAY</td>\n",
              "      <td>10034.0</td>\n",
              "      <td>(212) 942-6668</td>\n",
              "      <td>Chinese</td>\n",
              "      <td>2023-02-03</td>\n",
              "      <td>Violations were cited in the following area(s).</td>\n",
              "      <td>Critical</td>\n",
              "      <td>31.0</td>\n",
              "      <td>N</td>\n",
              "      <td>TBD</td>\n",
              "      <td>Pre-permit (Operational) / Initial Inspection</td>\n",
              "      <td>40.867494</td>\n",
              "      <td>-73.921726</td>\n",
              "      <td>5</td>\n",
              "      <td>2-5</td>\n",
              "    </tr>\n",
              "  </tbody>\n",
              "</table>\n",
              "</div>\n",
              "      <button class=\"colab-df-convert\" onclick=\"convertToInteractive('df-f4203ffa-7fb1-4c35-8efe-e7d9d7e18f1d')\"\n",
              "              title=\"Convert this dataframe to an interactive table.\"\n",
              "              style=\"display:none;\">\n",
              "        \n",
              "  <svg xmlns=\"http://www.w3.org/2000/svg\" height=\"24px\"viewBox=\"0 0 24 24\"\n",
              "       width=\"24px\">\n",
              "    <path d=\"M0 0h24v24H0V0z\" fill=\"none\"/>\n",
              "    <path d=\"M18.56 5.44l.94 2.06.94-2.06 2.06-.94-2.06-.94-.94-2.06-.94 2.06-2.06.94zm-11 1L8.5 8.5l.94-2.06 2.06-.94-2.06-.94L8.5 2.5l-.94 2.06-2.06.94zm10 10l.94 2.06.94-2.06 2.06-.94-2.06-.94-.94-2.06-.94 2.06-2.06.94z\"/><path d=\"M17.41 7.96l-1.37-1.37c-.4-.4-.92-.59-1.43-.59-.52 0-1.04.2-1.43.59L10.3 9.45l-7.72 7.72c-.78.78-.78 2.05 0 2.83L4 21.41c.39.39.9.59 1.41.59.51 0 1.02-.2 1.41-.59l7.78-7.78 2.81-2.81c.8-.78.8-2.07 0-2.86zM5.41 20L4 18.59l7.72-7.72 1.47 1.35L5.41 20z\"/>\n",
              "  </svg>\n",
              "      </button>\n",
              "      \n",
              "  <style>\n",
              "    .colab-df-container {\n",
              "      display:flex;\n",
              "      flex-wrap:wrap;\n",
              "      gap: 12px;\n",
              "    }\n",
              "\n",
              "    .colab-df-convert {\n",
              "      background-color: #E8F0FE;\n",
              "      border: none;\n",
              "      border-radius: 50%;\n",
              "      cursor: pointer;\n",
              "      display: none;\n",
              "      fill: #1967D2;\n",
              "      height: 32px;\n",
              "      padding: 0 0 0 0;\n",
              "      width: 32px;\n",
              "    }\n",
              "\n",
              "    .colab-df-convert:hover {\n",
              "      background-color: #E2EBFA;\n",
              "      box-shadow: 0px 1px 2px rgba(60, 64, 67, 0.3), 0px 1px 3px 1px rgba(60, 64, 67, 0.15);\n",
              "      fill: #174EA6;\n",
              "    }\n",
              "\n",
              "    [theme=dark] .colab-df-convert {\n",
              "      background-color: #3B4455;\n",
              "      fill: #D2E3FC;\n",
              "    }\n",
              "\n",
              "    [theme=dark] .colab-df-convert:hover {\n",
              "      background-color: #434B5C;\n",
              "      box-shadow: 0px 1px 3px 1px rgba(0, 0, 0, 0.15);\n",
              "      filter: drop-shadow(0px 1px 2px rgba(0, 0, 0, 0.3));\n",
              "      fill: #FFFFFF;\n",
              "    }\n",
              "  </style>\n",
              "\n",
              "      <script>\n",
              "        const buttonEl =\n",
              "          document.querySelector('#df-f4203ffa-7fb1-4c35-8efe-e7d9d7e18f1d button.colab-df-convert');\n",
              "        buttonEl.style.display =\n",
              "          google.colab.kernel.accessAllowed ? 'block' : 'none';\n",
              "\n",
              "        async function convertToInteractive(key) {\n",
              "          const element = document.querySelector('#df-f4203ffa-7fb1-4c35-8efe-e7d9d7e18f1d');\n",
              "          const dataTable =\n",
              "            await google.colab.kernel.invokeFunction('convertToInteractive',\n",
              "                                                     [key], {});\n",
              "          if (!dataTable) return;\n",
              "\n",
              "          const docLinkHtml = 'Like what you see? Visit the ' +\n",
              "            '<a target=\"_blank\" href=https://colab.research.google.com/notebooks/data_table.ipynb>data table notebook</a>'\n",
              "            + ' to learn more about interactive tables.';\n",
              "          element.innerHTML = '';\n",
              "          dataTable['output_type'] = 'display_data';\n",
              "          await google.colab.output.renderOutput(dataTable, element);\n",
              "          const docLink = document.createElement('div');\n",
              "          docLink.innerHTML = docLinkHtml;\n",
              "          element.appendChild(docLink);\n",
              "        }\n",
              "      </script>\n",
              "    </div>\n",
              "  </div>\n",
              "  "
            ]
          },
          "metadata": {},
          "execution_count": 49
        }
      ]
    },
    {
      "cell_type": "markdown",
      "source": [
        "##Converting categorical data to numerical data"
      ],
      "metadata": {
        "id": "mCaoZAEKHh2C"
      }
    },
    {
      "cell_type": "code",
      "source": [
        "boro_data = pd.get_dummies(data_filtered['BORO'])\n",
        "boro_data = boro_data.add_prefix('BORO_')"
      ],
      "metadata": {
        "id": "12X8zdc-BrIB"
      },
      "execution_count": null,
      "outputs": []
    },
    {
      "cell_type": "code",
      "source": [
        "boro_data.head()"
      ],
      "metadata": {
        "colab": {
          "base_uri": "https://localhost:8080/",
          "height": 206
        },
        "id": "Kgt9qPMaF36Z",
        "outputId": "7b5939f2-b205-45d0-bc49-3fb63340ab4b"
      },
      "execution_count": null,
      "outputs": [
        {
          "output_type": "execute_result",
          "data": {
            "text/plain": [
              "   BORO_Bronx  BORO_Brooklyn  BORO_Manhattan  BORO_Queens  BORO_Staten Island\n",
              "0           0              0               1            0                   0\n",
              "1           0              1               0            0                   0\n",
              "2           1              0               0            0                   0\n",
              "3           0              0               1            0                   0\n",
              "4           0              0               1            0                   0"
            ],
            "text/html": [
              "\n",
              "  <div id=\"df-31cc4bb3-6245-40e4-8c4e-d897f1971f68\">\n",
              "    <div class=\"colab-df-container\">\n",
              "      <div>\n",
              "<style scoped>\n",
              "    .dataframe tbody tr th:only-of-type {\n",
              "        vertical-align: middle;\n",
              "    }\n",
              "\n",
              "    .dataframe tbody tr th {\n",
              "        vertical-align: top;\n",
              "    }\n",
              "\n",
              "    .dataframe thead th {\n",
              "        text-align: right;\n",
              "    }\n",
              "</style>\n",
              "<table border=\"1\" class=\"dataframe\">\n",
              "  <thead>\n",
              "    <tr style=\"text-align: right;\">\n",
              "      <th></th>\n",
              "      <th>BORO_Bronx</th>\n",
              "      <th>BORO_Brooklyn</th>\n",
              "      <th>BORO_Manhattan</th>\n",
              "      <th>BORO_Queens</th>\n",
              "      <th>BORO_Staten Island</th>\n",
              "    </tr>\n",
              "  </thead>\n",
              "  <tbody>\n",
              "    <tr>\n",
              "      <th>0</th>\n",
              "      <td>0</td>\n",
              "      <td>0</td>\n",
              "      <td>1</td>\n",
              "      <td>0</td>\n",
              "      <td>0</td>\n",
              "    </tr>\n",
              "    <tr>\n",
              "      <th>1</th>\n",
              "      <td>0</td>\n",
              "      <td>1</td>\n",
              "      <td>0</td>\n",
              "      <td>0</td>\n",
              "      <td>0</td>\n",
              "    </tr>\n",
              "    <tr>\n",
              "      <th>2</th>\n",
              "      <td>1</td>\n",
              "      <td>0</td>\n",
              "      <td>0</td>\n",
              "      <td>0</td>\n",
              "      <td>0</td>\n",
              "    </tr>\n",
              "    <tr>\n",
              "      <th>3</th>\n",
              "      <td>0</td>\n",
              "      <td>0</td>\n",
              "      <td>1</td>\n",
              "      <td>0</td>\n",
              "      <td>0</td>\n",
              "    </tr>\n",
              "    <tr>\n",
              "      <th>4</th>\n",
              "      <td>0</td>\n",
              "      <td>0</td>\n",
              "      <td>1</td>\n",
              "      <td>0</td>\n",
              "      <td>0</td>\n",
              "    </tr>\n",
              "  </tbody>\n",
              "</table>\n",
              "</div>\n",
              "      <button class=\"colab-df-convert\" onclick=\"convertToInteractive('df-31cc4bb3-6245-40e4-8c4e-d897f1971f68')\"\n",
              "              title=\"Convert this dataframe to an interactive table.\"\n",
              "              style=\"display:none;\">\n",
              "        \n",
              "  <svg xmlns=\"http://www.w3.org/2000/svg\" height=\"24px\"viewBox=\"0 0 24 24\"\n",
              "       width=\"24px\">\n",
              "    <path d=\"M0 0h24v24H0V0z\" fill=\"none\"/>\n",
              "    <path d=\"M18.56 5.44l.94 2.06.94-2.06 2.06-.94-2.06-.94-.94-2.06-.94 2.06-2.06.94zm-11 1L8.5 8.5l.94-2.06 2.06-.94-2.06-.94L8.5 2.5l-.94 2.06-2.06.94zm10 10l.94 2.06.94-2.06 2.06-.94-2.06-.94-.94-2.06-.94 2.06-2.06.94z\"/><path d=\"M17.41 7.96l-1.37-1.37c-.4-.4-.92-.59-1.43-.59-.52 0-1.04.2-1.43.59L10.3 9.45l-7.72 7.72c-.78.78-.78 2.05 0 2.83L4 21.41c.39.39.9.59 1.41.59.51 0 1.02-.2 1.41-.59l7.78-7.78 2.81-2.81c.8-.78.8-2.07 0-2.86zM5.41 20L4 18.59l7.72-7.72 1.47 1.35L5.41 20z\"/>\n",
              "  </svg>\n",
              "      </button>\n",
              "      \n",
              "  <style>\n",
              "    .colab-df-container {\n",
              "      display:flex;\n",
              "      flex-wrap:wrap;\n",
              "      gap: 12px;\n",
              "    }\n",
              "\n",
              "    .colab-df-convert {\n",
              "      background-color: #E8F0FE;\n",
              "      border: none;\n",
              "      border-radius: 50%;\n",
              "      cursor: pointer;\n",
              "      display: none;\n",
              "      fill: #1967D2;\n",
              "      height: 32px;\n",
              "      padding: 0 0 0 0;\n",
              "      width: 32px;\n",
              "    }\n",
              "\n",
              "    .colab-df-convert:hover {\n",
              "      background-color: #E2EBFA;\n",
              "      box-shadow: 0px 1px 2px rgba(60, 64, 67, 0.3), 0px 1px 3px 1px rgba(60, 64, 67, 0.15);\n",
              "      fill: #174EA6;\n",
              "    }\n",
              "\n",
              "    [theme=dark] .colab-df-convert {\n",
              "      background-color: #3B4455;\n",
              "      fill: #D2E3FC;\n",
              "    }\n",
              "\n",
              "    [theme=dark] .colab-df-convert:hover {\n",
              "      background-color: #434B5C;\n",
              "      box-shadow: 0px 1px 3px 1px rgba(0, 0, 0, 0.15);\n",
              "      filter: drop-shadow(0px 1px 2px rgba(0, 0, 0, 0.3));\n",
              "      fill: #FFFFFF;\n",
              "    }\n",
              "  </style>\n",
              "\n",
              "      <script>\n",
              "        const buttonEl =\n",
              "          document.querySelector('#df-31cc4bb3-6245-40e4-8c4e-d897f1971f68 button.colab-df-convert');\n",
              "        buttonEl.style.display =\n",
              "          google.colab.kernel.accessAllowed ? 'block' : 'none';\n",
              "\n",
              "        async function convertToInteractive(key) {\n",
              "          const element = document.querySelector('#df-31cc4bb3-6245-40e4-8c4e-d897f1971f68');\n",
              "          const dataTable =\n",
              "            await google.colab.kernel.invokeFunction('convertToInteractive',\n",
              "                                                     [key], {});\n",
              "          if (!dataTable) return;\n",
              "\n",
              "          const docLinkHtml = 'Like what you see? Visit the ' +\n",
              "            '<a target=\"_blank\" href=https://colab.research.google.com/notebooks/data_table.ipynb>data table notebook</a>'\n",
              "            + ' to learn more about interactive tables.';\n",
              "          element.innerHTML = '';\n",
              "          dataTable['output_type'] = 'display_data';\n",
              "          await google.colab.output.renderOutput(dataTable, element);\n",
              "          const docLink = document.createElement('div');\n",
              "          docLink.innerHTML = docLinkHtml;\n",
              "          element.appendChild(docLink);\n",
              "        }\n",
              "      </script>\n",
              "    </div>\n",
              "  </div>\n",
              "  "
            ]
          },
          "metadata": {},
          "execution_count": 51
        }
      ]
    },
    {
      "cell_type": "code",
      "source": [
        "data_filtered = pd.concat([data_filtered, boro_data], axis=1)"
      ],
      "metadata": {
        "id": "WpUVXM_uCkOR"
      },
      "execution_count": null,
      "outputs": []
    },
    {
      "cell_type": "markdown",
      "source": [
        "###Analysis of \"ACTION\" Column <br>\n",
        "**Violations** -  Violations were cited in the following area(s). <br>\n",
        "**Establishment  re-opened** - Establishment re-opened by DOHMH.<br>\n",
        "**No violations** -  No violations were recorded at the time of this inspection.<br>\n",
        "Establishment Closed -  Establishment Closed by DOHMH. Violations were cited in the following area(s) and those requiring immediate action were addressed.<br>"
      ],
      "metadata": {
        "id": "85eD_AmFIevN"
      }
    },
    {
      "cell_type": "code",
      "source": [
        "data_filtered['ACTION'].replace({'Violations were cited in the following area(s).':'Violations',\n",
        "                                     'No violations were recorded at the time of this inspection.': 'No violations',\n",
        "                                     'Establishment Closed by DOHMH. Violations were cited in the following area(s) and those requiring immediate action were addressed.':'Establishment Closed',\n",
        "                                     'Establishment re-opened by DOHMH.': 'Establishment re-opened'}, inplace = True)\n",
        "data_filtered['ACTION'].value_counts()\n"
      ],
      "metadata": {
        "colab": {
          "base_uri": "https://localhost:8080/"
        },
        "id": "Uq3uxrfXJmGK",
        "outputId": "531bb6e1-3ef2-454b-a3ce-1795cf5d159d"
      },
      "execution_count": null,
      "outputs": [
        {
          "output_type": "execute_result",
          "data": {
            "text/plain": [
              "Violations                 22774\n",
              "Establishment re-opened      459\n",
              "No violations                263\n",
              "Establishment Closed          62\n",
              "Name: ACTION, dtype: int64"
            ]
          },
          "metadata": {},
          "execution_count": 53
        }
      ]
    },
    {
      "cell_type": "code",
      "source": [
        "Action_data = pd.get_dummies(data_filtered['ACTION'])\n",
        "Action_data = Action_data.add_prefix('ACTION_')"
      ],
      "metadata": {
        "id": "DaSrcNH-KaGW"
      },
      "execution_count": null,
      "outputs": []
    },
    {
      "cell_type": "code",
      "source": [
        "data_filtered = pd.concat([data_filtered, Action_data], axis=1)"
      ],
      "metadata": {
        "id": "_pGSGOWtKol6"
      },
      "execution_count": null,
      "outputs": []
    },
    {
      "cell_type": "code",
      "source": [
        "data_filtered.head(2)"
      ],
      "metadata": {
        "colab": {
          "base_uri": "https://localhost:8080/",
          "height": 292
        },
        "id": "2unqZKA5Kqgh",
        "outputId": "3acaa858-5cd7-4ef9-da4d-758ab45f259a"
      },
      "execution_count": null,
      "outputs": [
        {
          "output_type": "execute_result",
          "data": {
            "text/plain": [
              "      CAMIS                           DBA       BORO BUILDING  \\\n",
              "0  50126747     \"U\" LIKE CHINESE TAKE OUT  Manhattan     4926   \n",
              "1  50075009  #1 GARDEN CHINESE RESTAURANT   Brooklyn      221   \n",
              "\n",
              "               STREET  ZIPCODE   display_phone CUISINE DESCRIPTION  \\\n",
              "0            BROADWAY  10034.0  (212) 942-6668             Chinese   \n",
              "1  PROSPECT PARK WEST  11215.0  (917) 250-8950             Chinese   \n",
              "\n",
              "  INSPECTION DATE                   ACTION  ... count_range BORO_Bronx  \\\n",
              "0      2023-02-03               Violations  ...         2-5          0   \n",
              "1      2023-02-13  Establishment re-opened  ...       11-20          0   \n",
              "\n",
              "  BORO_Brooklyn BORO_Manhattan BORO_Queens  BORO_Staten Island  \\\n",
              "0             0              1           0                   0   \n",
              "1             1              0           0                   0   \n",
              "\n",
              "   ACTION_Establishment Closed  ACTION_Establishment re-opened  \\\n",
              "0                            0                               0   \n",
              "1                            0                               1   \n",
              "\n",
              "  ACTION_No violations  ACTION_Violations  \n",
              "0                    0                  1  \n",
              "1                    0                  0  \n",
              "\n",
              "[2 rows x 28 columns]"
            ],
            "text/html": [
              "\n",
              "  <div id=\"df-08a536fa-763f-4e2f-b767-d2e7f6941f84\">\n",
              "    <div class=\"colab-df-container\">\n",
              "      <div>\n",
              "<style scoped>\n",
              "    .dataframe tbody tr th:only-of-type {\n",
              "        vertical-align: middle;\n",
              "    }\n",
              "\n",
              "    .dataframe tbody tr th {\n",
              "        vertical-align: top;\n",
              "    }\n",
              "\n",
              "    .dataframe thead th {\n",
              "        text-align: right;\n",
              "    }\n",
              "</style>\n",
              "<table border=\"1\" class=\"dataframe\">\n",
              "  <thead>\n",
              "    <tr style=\"text-align: right;\">\n",
              "      <th></th>\n",
              "      <th>CAMIS</th>\n",
              "      <th>DBA</th>\n",
              "      <th>BORO</th>\n",
              "      <th>BUILDING</th>\n",
              "      <th>STREET</th>\n",
              "      <th>ZIPCODE</th>\n",
              "      <th>display_phone</th>\n",
              "      <th>CUISINE DESCRIPTION</th>\n",
              "      <th>INSPECTION DATE</th>\n",
              "      <th>ACTION</th>\n",
              "      <th>...</th>\n",
              "      <th>count_range</th>\n",
              "      <th>BORO_Bronx</th>\n",
              "      <th>BORO_Brooklyn</th>\n",
              "      <th>BORO_Manhattan</th>\n",
              "      <th>BORO_Queens</th>\n",
              "      <th>BORO_Staten Island</th>\n",
              "      <th>ACTION_Establishment Closed</th>\n",
              "      <th>ACTION_Establishment re-opened</th>\n",
              "      <th>ACTION_No violations</th>\n",
              "      <th>ACTION_Violations</th>\n",
              "    </tr>\n",
              "  </thead>\n",
              "  <tbody>\n",
              "    <tr>\n",
              "      <th>0</th>\n",
              "      <td>50126747</td>\n",
              "      <td>\"U\" LIKE CHINESE TAKE OUT</td>\n",
              "      <td>Manhattan</td>\n",
              "      <td>4926</td>\n",
              "      <td>BROADWAY</td>\n",
              "      <td>10034.0</td>\n",
              "      <td>(212) 942-6668</td>\n",
              "      <td>Chinese</td>\n",
              "      <td>2023-02-03</td>\n",
              "      <td>Violations</td>\n",
              "      <td>...</td>\n",
              "      <td>2-5</td>\n",
              "      <td>0</td>\n",
              "      <td>0</td>\n",
              "      <td>1</td>\n",
              "      <td>0</td>\n",
              "      <td>0</td>\n",
              "      <td>0</td>\n",
              "      <td>0</td>\n",
              "      <td>0</td>\n",
              "      <td>1</td>\n",
              "    </tr>\n",
              "    <tr>\n",
              "      <th>1</th>\n",
              "      <td>50075009</td>\n",
              "      <td>#1 GARDEN CHINESE RESTAURANT</td>\n",
              "      <td>Brooklyn</td>\n",
              "      <td>221</td>\n",
              "      <td>PROSPECT PARK WEST</td>\n",
              "      <td>11215.0</td>\n",
              "      <td>(917) 250-8950</td>\n",
              "      <td>Chinese</td>\n",
              "      <td>2023-02-13</td>\n",
              "      <td>Establishment re-opened</td>\n",
              "      <td>...</td>\n",
              "      <td>11-20</td>\n",
              "      <td>0</td>\n",
              "      <td>1</td>\n",
              "      <td>0</td>\n",
              "      <td>0</td>\n",
              "      <td>0</td>\n",
              "      <td>0</td>\n",
              "      <td>1</td>\n",
              "      <td>0</td>\n",
              "      <td>0</td>\n",
              "    </tr>\n",
              "  </tbody>\n",
              "</table>\n",
              "<p>2 rows × 28 columns</p>\n",
              "</div>\n",
              "      <button class=\"colab-df-convert\" onclick=\"convertToInteractive('df-08a536fa-763f-4e2f-b767-d2e7f6941f84')\"\n",
              "              title=\"Convert this dataframe to an interactive table.\"\n",
              "              style=\"display:none;\">\n",
              "        \n",
              "  <svg xmlns=\"http://www.w3.org/2000/svg\" height=\"24px\"viewBox=\"0 0 24 24\"\n",
              "       width=\"24px\">\n",
              "    <path d=\"M0 0h24v24H0V0z\" fill=\"none\"/>\n",
              "    <path d=\"M18.56 5.44l.94 2.06.94-2.06 2.06-.94-2.06-.94-.94-2.06-.94 2.06-2.06.94zm-11 1L8.5 8.5l.94-2.06 2.06-.94-2.06-.94L8.5 2.5l-.94 2.06-2.06.94zm10 10l.94 2.06.94-2.06 2.06-.94-2.06-.94-.94-2.06-.94 2.06-2.06.94z\"/><path d=\"M17.41 7.96l-1.37-1.37c-.4-.4-.92-.59-1.43-.59-.52 0-1.04.2-1.43.59L10.3 9.45l-7.72 7.72c-.78.78-.78 2.05 0 2.83L4 21.41c.39.39.9.59 1.41.59.51 0 1.02-.2 1.41-.59l7.78-7.78 2.81-2.81c.8-.78.8-2.07 0-2.86zM5.41 20L4 18.59l7.72-7.72 1.47 1.35L5.41 20z\"/>\n",
              "  </svg>\n",
              "      </button>\n",
              "      \n",
              "  <style>\n",
              "    .colab-df-container {\n",
              "      display:flex;\n",
              "      flex-wrap:wrap;\n",
              "      gap: 12px;\n",
              "    }\n",
              "\n",
              "    .colab-df-convert {\n",
              "      background-color: #E8F0FE;\n",
              "      border: none;\n",
              "      border-radius: 50%;\n",
              "      cursor: pointer;\n",
              "      display: none;\n",
              "      fill: #1967D2;\n",
              "      height: 32px;\n",
              "      padding: 0 0 0 0;\n",
              "      width: 32px;\n",
              "    }\n",
              "\n",
              "    .colab-df-convert:hover {\n",
              "      background-color: #E2EBFA;\n",
              "      box-shadow: 0px 1px 2px rgba(60, 64, 67, 0.3), 0px 1px 3px 1px rgba(60, 64, 67, 0.15);\n",
              "      fill: #174EA6;\n",
              "    }\n",
              "\n",
              "    [theme=dark] .colab-df-convert {\n",
              "      background-color: #3B4455;\n",
              "      fill: #D2E3FC;\n",
              "    }\n",
              "\n",
              "    [theme=dark] .colab-df-convert:hover {\n",
              "      background-color: #434B5C;\n",
              "      box-shadow: 0px 1px 3px 1px rgba(0, 0, 0, 0.15);\n",
              "      filter: drop-shadow(0px 1px 2px rgba(0, 0, 0, 0.3));\n",
              "      fill: #FFFFFF;\n",
              "    }\n",
              "  </style>\n",
              "\n",
              "      <script>\n",
              "        const buttonEl =\n",
              "          document.querySelector('#df-08a536fa-763f-4e2f-b767-d2e7f6941f84 button.colab-df-convert');\n",
              "        buttonEl.style.display =\n",
              "          google.colab.kernel.accessAllowed ? 'block' : 'none';\n",
              "\n",
              "        async function convertToInteractive(key) {\n",
              "          const element = document.querySelector('#df-08a536fa-763f-4e2f-b767-d2e7f6941f84');\n",
              "          const dataTable =\n",
              "            await google.colab.kernel.invokeFunction('convertToInteractive',\n",
              "                                                     [key], {});\n",
              "          if (!dataTable) return;\n",
              "\n",
              "          const docLinkHtml = 'Like what you see? Visit the ' +\n",
              "            '<a target=\"_blank\" href=https://colab.research.google.com/notebooks/data_table.ipynb>data table notebook</a>'\n",
              "            + ' to learn more about interactive tables.';\n",
              "          element.innerHTML = '';\n",
              "          dataTable['output_type'] = 'display_data';\n",
              "          await google.colab.output.renderOutput(dataTable, element);\n",
              "          const docLink = document.createElement('div');\n",
              "          docLink.innerHTML = docLinkHtml;\n",
              "          element.appendChild(docLink);\n",
              "        }\n",
              "      </script>\n",
              "    </div>\n",
              "  </div>\n",
              "  "
            ]
          },
          "metadata": {},
          "execution_count": 56
        }
      ]
    },
    {
      "cell_type": "code",
      "source": [
        "Critical_flag_data = pd.get_dummies(data_filtered['CRITICAL FLAG'])\n",
        "Critical_flag_data = Critical_flag_data.add_prefix('CRITICAL_FLAG_')\n",
        "data_filtered = pd.concat([data_filtered, Critical_flag_data], axis=1)"
      ],
      "metadata": {
        "id": "-L5f4IOMKqao"
      },
      "execution_count": null,
      "outputs": []
    },
    {
      "cell_type": "code",
      "source": [
        "Grade_data = pd.get_dummies(data_filtered['GRADE'])\n",
        "Grade_data = Grade_data.add_prefix('GRADE_')\n",
        "data_filtered = pd.concat([data_filtered, Grade_data], axis=1)"
      ],
      "metadata": {
        "id": "H7B8KptsLwrt"
      },
      "execution_count": null,
      "outputs": []
    },
    {
      "cell_type": "code",
      "source": [
        "inspection_data = pd.get_dummies(data_filtered['INSPECTION TYPE'])\n",
        "inspection_data = inspection_data.add_prefix('INSPECTION_')\n",
        "data_filtered = pd.concat([data_filtered, inspection_data], axis=1)"
      ],
      "metadata": {
        "id": "g6tjxSm1MvLu"
      },
      "execution_count": null,
      "outputs": []
    },
    {
      "cell_type": "code",
      "source": [
        "data_filtered.shape"
      ],
      "metadata": {
        "colab": {
          "base_uri": "https://localhost:8080/"
        },
        "id": "coaPCoLnNElc",
        "outputId": "2b4d0873-d792-4b1d-b50d-69a0abf9f9fd"
      },
      "execution_count": null,
      "outputs": [
        {
          "output_type": "execute_result",
          "data": {
            "text/plain": [
              "(23558, 64)"
            ]
          },
          "metadata": {},
          "execution_count": 60
        }
      ]
    },
    {
      "cell_type": "code",
      "source": [
        "data_filtered['SCORE'] = pd.to_numeric(data_filtered['SCORE'], errors='coerce')\n",
        "data_filtered['SCORE'].fillna(0, inplace=True)"
      ],
      "metadata": {
        "id": "JmfCmE4NSf1l"
      },
      "execution_count": null,
      "outputs": []
    },
    {
      "cell_type": "code",
      "source": [
        "X = data_filtered.drop(['BORO', 'ACTION', 'CRITICAL FLAG', 'GRADE', 'INSPECTION TYPE','DBA','CAMIS','BUILDING','STREET','ZIPCODE','display_phone','CUISINE DESCRIPTION','INSPECTION DATE','Latitude','Longitude','GRADE DATE','count_range', 'SCORE'], axis=1 )\n",
        "y = data_filtered[['SCORE']]"
      ],
      "metadata": {
        "id": "p0aRHInWRVMY"
      },
      "execution_count": null,
      "outputs": []
    },
    {
      "cell_type": "markdown",
      "source": [
        "## 8. Regression"
      ],
      "metadata": {
        "id": "4YzUO1CQRzyM"
      }
    },
    {
      "cell_type": "markdown",
      "source": [
        "For the purpose of training the models, we have selected the following features: 'BORO', 'ACTION', 'CRITICAL FLAG', 'GRADE', 'INSPECTION TYPE', 'no_of_inspections'.\n",
        "We are trying to predict the 'SCORE'."
      ],
      "metadata": {
        "id": "KvQRSbCkThRr"
      }
    },
    {
      "cell_type": "code",
      "source": [
        "from sklearn.model_selection import train_test_split\n",
        "X_train, X_test, Y_train, Y_test = train_test_split(X, y, test_size=0.3, random_state=12)"
      ],
      "metadata": {
        "id": "9Qtwb6XwVL37"
      },
      "execution_count": null,
      "outputs": []
    },
    {
      "cell_type": "code",
      "source": [
        "print(X_train.shape, X_test.shape)"
      ],
      "metadata": {
        "colab": {
          "base_uri": "https://localhost:8080/"
        },
        "id": "n7viwZDVPYkl",
        "outputId": "b4a95fdb-2594-4f7e-a70e-af29f7fc89c7"
      },
      "execution_count": null,
      "outputs": [
        {
          "output_type": "stream",
          "name": "stdout",
          "text": [
            "(16490, 46) (7068, 46)\n"
          ]
        }
      ]
    },
    {
      "cell_type": "code",
      "source": [
        "print(Y_train.shape, Y_test.shape)"
      ],
      "metadata": {
        "colab": {
          "base_uri": "https://localhost:8080/"
        },
        "id": "Z1NLC9m4PgeM",
        "outputId": "4037feca-77e8-48a2-f9bf-f659945dcf91"
      },
      "execution_count": null,
      "outputs": [
        {
          "output_type": "stream",
          "name": "stdout",
          "text": [
            "(16490, 1) (7068, 1)\n"
          ]
        }
      ]
    },
    {
      "cell_type": "code",
      "source": [
        "from sklearn.linear_model import LinearRegression\n",
        "from sklearn.linear_model import LogisticRegression\n",
        "from sklearn.ensemble import GradientBoostingRegressor\n",
        "from sklearn.ensemble import RandomForestRegressor\n",
        "from sklearn.metrics import mean_squared_error, r2_score"
      ],
      "metadata": {
        "id": "1LtICoubVdt_"
      },
      "execution_count": null,
      "outputs": []
    },
    {
      "cell_type": "code",
      "source": [
        "model_lin=LinearRegression()\n",
        "model_log = LogisticRegression()\n",
        "model_gb = GradientBoostingRegressor()\n",
        "model_rf = RandomForestRegressor()"
      ],
      "metadata": {
        "id": "kCO1bL_AVyBP"
      },
      "execution_count": null,
      "outputs": []
    },
    {
      "cell_type": "code",
      "source": [
        "#Fitting each regression model\n",
        "model_lin.fit(X_train, Y_train)\n",
        "model_log.fit(X_train, Y_train)\n",
        "model_gb.fit(X_train, Y_train)\n",
        "model_rf.fit(X_train, Y_train)"
      ],
      "metadata": {
        "colab": {
          "base_uri": "https://localhost:8080/",
          "height": 74
        },
        "id": "U5XI5y2MySOz",
        "outputId": "38a115c3-0184-48bd-e11c-666cfc9d17bb"
      },
      "execution_count": null,
      "outputs": [
        {
          "output_type": "execute_result",
          "data": {
            "text/plain": [
              "RandomForestRegressor()"
            ],
            "text/html": [
              "<style>#sk-container-id-1 {color: black;background-color: white;}#sk-container-id-1 pre{padding: 0;}#sk-container-id-1 div.sk-toggleable {background-color: white;}#sk-container-id-1 label.sk-toggleable__label {cursor: pointer;display: block;width: 100%;margin-bottom: 0;padding: 0.3em;box-sizing: border-box;text-align: center;}#sk-container-id-1 label.sk-toggleable__label-arrow:before {content: \"▸\";float: left;margin-right: 0.25em;color: #696969;}#sk-container-id-1 label.sk-toggleable__label-arrow:hover:before {color: black;}#sk-container-id-1 div.sk-estimator:hover label.sk-toggleable__label-arrow:before {color: black;}#sk-container-id-1 div.sk-toggleable__content {max-height: 0;max-width: 0;overflow: hidden;text-align: left;background-color: #f0f8ff;}#sk-container-id-1 div.sk-toggleable__content pre {margin: 0.2em;color: black;border-radius: 0.25em;background-color: #f0f8ff;}#sk-container-id-1 input.sk-toggleable__control:checked~div.sk-toggleable__content {max-height: 200px;max-width: 100%;overflow: auto;}#sk-container-id-1 input.sk-toggleable__control:checked~label.sk-toggleable__label-arrow:before {content: \"▾\";}#sk-container-id-1 div.sk-estimator input.sk-toggleable__control:checked~label.sk-toggleable__label {background-color: #d4ebff;}#sk-container-id-1 div.sk-label input.sk-toggleable__control:checked~label.sk-toggleable__label {background-color: #d4ebff;}#sk-container-id-1 input.sk-hidden--visually {border: 0;clip: rect(1px 1px 1px 1px);clip: rect(1px, 1px, 1px, 1px);height: 1px;margin: -1px;overflow: hidden;padding: 0;position: absolute;width: 1px;}#sk-container-id-1 div.sk-estimator {font-family: monospace;background-color: #f0f8ff;border: 1px dotted black;border-radius: 0.25em;box-sizing: border-box;margin-bottom: 0.5em;}#sk-container-id-1 div.sk-estimator:hover {background-color: #d4ebff;}#sk-container-id-1 div.sk-parallel-item::after {content: \"\";width: 100%;border-bottom: 1px solid gray;flex-grow: 1;}#sk-container-id-1 div.sk-label:hover label.sk-toggleable__label {background-color: #d4ebff;}#sk-container-id-1 div.sk-serial::before {content: \"\";position: absolute;border-left: 1px solid gray;box-sizing: border-box;top: 0;bottom: 0;left: 50%;z-index: 0;}#sk-container-id-1 div.sk-serial {display: flex;flex-direction: column;align-items: center;background-color: white;padding-right: 0.2em;padding-left: 0.2em;position: relative;}#sk-container-id-1 div.sk-item {position: relative;z-index: 1;}#sk-container-id-1 div.sk-parallel {display: flex;align-items: stretch;justify-content: center;background-color: white;position: relative;}#sk-container-id-1 div.sk-item::before, #sk-container-id-1 div.sk-parallel-item::before {content: \"\";position: absolute;border-left: 1px solid gray;box-sizing: border-box;top: 0;bottom: 0;left: 50%;z-index: -1;}#sk-container-id-1 div.sk-parallel-item {display: flex;flex-direction: column;z-index: 1;position: relative;background-color: white;}#sk-container-id-1 div.sk-parallel-item:first-child::after {align-self: flex-end;width: 50%;}#sk-container-id-1 div.sk-parallel-item:last-child::after {align-self: flex-start;width: 50%;}#sk-container-id-1 div.sk-parallel-item:only-child::after {width: 0;}#sk-container-id-1 div.sk-dashed-wrapped {border: 1px dashed gray;margin: 0 0.4em 0.5em 0.4em;box-sizing: border-box;padding-bottom: 0.4em;background-color: white;}#sk-container-id-1 div.sk-label label {font-family: monospace;font-weight: bold;display: inline-block;line-height: 1.2em;}#sk-container-id-1 div.sk-label-container {text-align: center;}#sk-container-id-1 div.sk-container {/* jupyter's `normalize.less` sets `[hidden] { display: none; }` but bootstrap.min.css set `[hidden] { display: none !important; }` so we also need the `!important` here to be able to override the default hidden behavior on the sphinx rendered scikit-learn.org. See: https://github.com/scikit-learn/scikit-learn/issues/21755 */display: inline-block !important;position: relative;}#sk-container-id-1 div.sk-text-repr-fallback {display: none;}</style><div id=\"sk-container-id-1\" class=\"sk-top-container\"><div class=\"sk-text-repr-fallback\"><pre>RandomForestRegressor()</pre><b>In a Jupyter environment, please rerun this cell to show the HTML representation or trust the notebook. <br />On GitHub, the HTML representation is unable to render, please try loading this page with nbviewer.org.</b></div><div class=\"sk-container\" hidden><div class=\"sk-item\"><div class=\"sk-estimator sk-toggleable\"><input class=\"sk-toggleable__control sk-hidden--visually\" id=\"sk-estimator-id-1\" type=\"checkbox\" checked><label for=\"sk-estimator-id-1\" class=\"sk-toggleable__label sk-toggleable__label-arrow\">RandomForestRegressor</label><div class=\"sk-toggleable__content\"><pre>RandomForestRegressor()</pre></div></div></div></div></div>"
            ]
          },
          "metadata": {},
          "execution_count": 68
        }
      ]
    },
    {
      "cell_type": "code",
      "source": [
        "#Make predictions on the test set using each model\n",
        "y_pred_lin = model_lin.predict(X_test)\n",
        "y_pred_log = model_log.predict(X_test)\n",
        "y_pred_gb = model_gb.predict(X_test)\n",
        "y_pred_rf = model_rf.predict(X_test)\n"
      ],
      "metadata": {
        "id": "D_-aYqVjyT8T"
      },
      "execution_count": null,
      "outputs": []
    },
    {
      "cell_type": "code",
      "source": [
        "#Evaluating the performance of each model\n",
        "mse_lin = mean_squared_error(Y_test, y_pred_lin)\n",
        "r2_lin = r2_score(Y_test, y_pred_lin)\n",
        "\n",
        "mse_log = mean_squared_error(Y_test, y_pred_log)\n",
        "r2_log = r2_score(Y_test, y_pred_log)\n",
        "\n",
        "mse_gb = mean_squared_error(Y_test, y_pred_gb)\n",
        "r2_gb = r2_score(Y_test, y_pred_gb)\n",
        "\n",
        "mse_rf = mean_squared_error(Y_test, y_pred_rf)\n",
        "r2_rf = r2_score(Y_test, y_pred_rf)\n",
        "\n",
        "print(\"Linear Regression:\")\n",
        "print(\"Mean Squared Error:\", mse_lin)\n",
        "print(\"R-squared Score:\", r2_lin)\n",
        "print()\n",
        "\n",
        "print(\"Logistic Regression:\")\n",
        "print(\"Mean Squared Error:\", mse_log)\n",
        "print(\"R-squared Score:\", r2_log)\n",
        "print()\n",
        "\n",
        "print(\"Gradient Boosting Regression:\")\n",
        "print(\"Mean Squared Error:\", mse_gb)\n",
        "print(\"R-squared Score:\", r2_gb)\n",
        "print()\n",
        "\n",
        "print(\"Random Forest Regression:\")\n",
        "print(\"Mean Squared Error:\", mse_rf)\n",
        "print(\"R-squared Score:\", r2_rf)\n",
        "print()\n"
      ],
      "metadata": {
        "colab": {
          "base_uri": "https://localhost:8080/"
        },
        "id": "f0kZEUNgyur-",
        "outputId": "ccd316dc-df39-467c-e4af-5ab718d8873d"
      },
      "execution_count": null,
      "outputs": [
        {
          "output_type": "stream",
          "name": "stdout",
          "text": [
            "Linear Regression:\n",
            "Mean Squared Error: 39.797251040409364\n",
            "R-squared Score: 0.6188912598366969\n",
            "\n",
            "Logistic Regression:\n",
            "Mean Squared Error: 74.48882286361064\n",
            "R-squared Score: 0.286675820674822\n",
            "\n",
            "Gradient Boosting Regression:\n",
            "Mean Squared Error: 33.55064558635942\n",
            "R-squared Score: 0.6787103647410266\n",
            "\n",
            "Random Forest Regression:\n",
            "Mean Squared Error: 36.38077118345044\n",
            "R-squared Score: 0.6516083520990956\n",
            "\n"
          ]
        }
      ]
    },
    {
      "cell_type": "markdown",
      "source": [
        "Based on the provided metrics, the best model appears to be **Gradient Boosting Regression** since it has lower MSE score and highest r2 score.\n"
      ],
      "metadata": {
        "id": "TOkFl4B5ztTO"
      }
    },
    {
      "cell_type": "code",
      "source": [
        "importances = model_gb.feature_importances_\n",
        "\n",
        "# Get feature names\n",
        "feature_names = X.columns\n",
        "# Sort feature importances in descending order\n",
        "indices = np.argsort(importances)[::-1]\n",
        "\n",
        "# Plot feature importances\n",
        "plt.figure(figsize=(10, 6))\n",
        "plt.title(\"Feature Importances - Gradient Boosting Regression\")\n",
        "plt.bar(range(X.shape[1]), importances[indices], align=\"center\")\n",
        "plt.xticks(range(X.shape[1]), feature_names[indices], rotation=90)\n",
        "plt.xlabel(\"Features\")\n",
        "plt.ylabel(\"Importance\")\n",
        "plt.tight_layout()\n",
        "plt.show()"
      ],
      "metadata": {
        "colab": {
          "base_uri": "https://localhost:8080/",
          "height": 1000
        },
        "id": "WnG51f-01XAX",
        "outputId": "9e1a1792-be45-408d-f3e2-f0eddc05035b"
      },
      "execution_count": null,
      "outputs": [
        {
          "output_type": "display_data",
          "data": {
            "text/plain": [
              "<Figure size 1000x600 with 1 Axes>"
            ],
            "image/png": "[encoded data removed]"
          },
          "metadata": {}
        }
      ]
    },
    {
      "cell_type": "markdown",
      "source": [
        "## 9. Hyperparameter tuning"
      ],
      "metadata": {
        "id": "9hy8-efj4ItO"
      }
    },
    {
      "cell_type": "code",
      "source": [
        "from sklearn.model_selection import GridSearchCV\n",
        "param_grid = {\n",
        "    'n_estimators': [100, 200, 300],  # Number of estimators (trees)\n",
        "    'learning_rate': [0.1, 0.01, 0.001],  # Learning rate\n",
        "    'max_depth': [3, 4, 5],  # Maximum depth of trees\n",
        "}\n",
        "\n",
        "# Perform grid search with cross-validation\n",
        "grid_search = GridSearchCV(estimator=model_gb, param_grid=param_grid, cv=5, scoring='neg_mean_squared_error')\n",
        "grid_search.fit(X_train, Y_train)  # X_train and y_train are your training data\n",
        "\n",
        "# Retrieve the best model and its hyperparameters\n",
        "best_model = grid_search.best_estimator_\n",
        "best_params = grid_search.best_params_\n",
        "\n",
        "# Evaluate the performance of the best model on the test data\n",
        "y_pred = best_model.predict(X_test)  # X_test is your test data\n",
        "mse = mean_squared_error(Y_test, y_pred)\n",
        "r2 = r2_score(Y_test, y_pred)\n",
        "\n",
        "print(\"Best hyperparameters:\", best_params)\n",
        "print(\"Mean Squared Error:\", mse)\n",
        "print(\"R-squared Score:\", r2)"
      ],
      "metadata": {
        "id": "J_a5Ej7206Ic",
        "colab": {
          "base_uri": "https://localhost:8080/"
        },
        "outputId": "70e1bcd3-c04f-40d6-b333-dc9b46af4410"
      },
      "execution_count": null,
      "outputs": [
        {
          "output_type": "stream",
          "name": "stdout",
          "text": [
            "Best hyperparameters: {'learning_rate': 0.1, 'max_depth': 4, 'n_estimators': 200}\n",
            "Mean Squared Error: 31.791783446568243\n",
            "R-squared Score: 0.6955536822238377\n"
          ]
        }
      ]
    },
    {
      "cell_type": "markdown",
      "source": [
        "There is an improvement in the model performance after Hyperparameter tuning."
      ],
      "metadata": {
        "id": "4PgQvaVI8VOm"
      }
    },
    {
      "cell_type": "code",
      "source": [
        "from sklearn.model_selection import cross_val_score\n",
        "model_gb = GradientBoostingRegressor(**best_params)\n",
        "\n",
        "# Perform cross-validation with early stopping\n",
        "cv_scores = []\n",
        "n_iterations = 1000  # Maximum number of iterations for early stopping\n",
        "for i in range(10):  # Number of cross-validation folds (can be adjusted)\n",
        "    # Perform cross-validation with early stopping\n",
        "    model_gb.set_params(n_estimators=n_iterations)\n",
        "    scores = cross_val_score(model_gb, X_train, Y_train, cv=5, scoring='neg_mean_squared_error')\n",
        "    cv_scores.append(scores.mean())\n",
        "\n",
        "    # Check if the performance has started deteriorating (early stopping condition)\n",
        "    if i > 0 and cv_scores[i] > cv_scores[i-1]:\n",
        "        break\n",
        "\n",
        "    # Decrease the number of iterations for the next fold\n",
        "    n_iterations -= 100\n",
        "\n",
        "# Determine the optimal number of iterations (early stopping point)\n",
        "optimal_iterations = (len(cv_scores) - 1) * 100\n",
        "\n",
        "# Train the model with the optimal number of iterations\n",
        "model_gb.set_params(n_estimators=optimal_iterations)\n",
        "model_gb.fit(X_train, Y_train)\n",
        "\n",
        "# Evaluate the performance of the model on the test data\n",
        "y_pred = model_gb.predict(X_test)\n",
        "mse = mean_squared_error(Y_test, y_pred)\n",
        "r2 = r2_score(Y_test, y_pred)\n",
        "\n",
        "print(\"Optimal Iterations:\", optimal_iterations)\n",
        "print(\"Mean Squared Error:\", mse)\n",
        "print(\"R-squared Score:\", r2)"
      ],
      "metadata": {
        "id": "sk89iyQv4yXW",
        "colab": {
          "base_uri": "https://localhost:8080/"
        },
        "outputId": "7f93d3b0-e551-4704-c9aa-ad4e54aaf7b4"
      },
      "execution_count": null,
      "outputs": [
        {
          "output_type": "stream",
          "name": "stdout",
          "text": [
            "Optimal Iterations: 100\n",
            "Mean Squared Error: 32.14724978850772\n",
            "R-squared Score: 0.6921496448542852\n"
          ]
        }
      ]
    },
    {
      "cell_type": "code",
      "source": [],
      "metadata": {
        "id": "tNB_GeKf9uZM"
      },
      "execution_count": null,
      "outputs": []
    }
  ]
}